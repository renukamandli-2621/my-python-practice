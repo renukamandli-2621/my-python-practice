{
 "cells": [
  {
   "cell_type": "code",
   "execution_count": 98,
   "id": "695bb3e0-0135-471c-ac2b-8bb9a6694298",
   "metadata": {},
   "outputs": [
    {
     "name": "stdout",
     "output_type": "stream",
     "text": [
      "['a', 'e', 'i', 'o', 'u']\n"
     ]
    }
   ],
   "source": [
    "def myfunction(alphalist,vowellist):\n",
    "    newlist=[]\n",
    "    for i in alphalist:\n",
    "        if i in vowellist:\n",
    "          newlist.append(i) \n",
    "    return newlist\n",
    "alphalist=[\"a\",\"b\",\"c\",\"d\",\"e\",\"f\",\"g\",\"h\",\"i\",\"j\",\"k\",\"l\",\"m\",\"n\",\"o\",\"p\",\"q\",\"r\",\"s\",\"t\",\"u\",\"v\",\"w\",\"x\",\"y\",\"z\"]\n",
    "vowellist=[\"a\",\"e\",\"i\",\"o\",\"u\"]\n",
    "newlist=myfunction(alphalist,vowellist)\n",
    "print(newlist)"
   ]
  },
  {
   "cell_type": "code",
   "execution_count": 102,
   "id": "3dda7f54-abe8-4aba-8934-162520fb4c38",
   "metadata": {},
   "outputs": [
    {
     "name": "stdout",
     "output_type": "stream",
     "text": [
      "['b', 'c', 'd', 'f', 'g', 'h', 'j', 'k', 'l', 'm', 'n', 'p', 'q', 'r', 's', 't', 'v', 'w', 'x', 'y', 'z']\n"
     ]
    }
   ],
   "source": [
    "def myfunction(alphalist,vowellist):\n",
    "    newlist=[]\n",
    "    for i in alphalist:\n",
    "        if i not in vowellist:\n",
    "          newlist.append(i) \n",
    "    return newlist\n",
    "alphalist=[\"a\",\"b\",\"c\",\"d\",\"e\",\"f\",\"g\",\"h\",\"i\",\"j\",\"k\",\"l\",\"m\",\"n\",\"o\",\"p\",\"q\",\"r\",\"s\",\"t\",\"u\",\"v\",\"w\",\"x\",\"y\",\"z\"]\n",
    "vowellist=[\"a\",\"e\",\"i\",\"o\",\"u\"]\n",
    "newlist=myfunction(alphalist,vowellist)\n",
    "print(newlist)"
   ]
  },
  {
   "cell_type": "code",
   "execution_count": 21,
   "id": "ae544ffd-1340-4883-b8f0-6f2a93b3e3cb",
   "metadata": {},
   "outputs": [
    {
     "name": "stdout",
     "output_type": "stream",
     "text": [
      "newlist1 [2, 4, 6, 8, 10]\n",
      "newlist2 [1, 3, 5, 7, 9]\n"
     ]
    }
   ],
   "source": [
    "def prime(l1):\n",
    "    newlist1=[]\n",
    "    newlist2=[]\n",
    "    for i in l1:\n",
    "        if i%2==0:\n",
    "         newlist1.append(i)\n",
    "        else:\n",
    "            newlist2.append(i)\n",
    "    return newlist1,newlist2\n",
    "new1,new2 = prime(l1) \n",
    "print('newlist1',new1)\n",
    "print('newlist2',new2)"
   ]
  },
  {
   "cell_type": "code",
   "execution_count": 19,
   "id": "5e47d34e-43fc-44c3-8a74-44bade74073d",
   "metadata": {},
   "outputs": [
    {
     "name": "stdout",
     "output_type": "stream",
     "text": [
      "newlist1 [2, 4, 6, 8]\n",
      "newlist2 [0, 1]\n"
     ]
    }
   ],
   "source": [
    "def prime(l1):\n",
    "    newlist1=[]\n",
    "    newlist2=[]\n",
    "    for i in l1:\n",
    "        if num>=1:\n",
    "            for j in range(i+1,:\n",
    "                if i%j==0:\n",
    "                  newlist1.append(i)\n",
    " \n",
    "\n",
    "\n",
    "\n",
    "\n",
    "\n",
    "l1=[1,2,3,4,5,6,7,8,9,10]\n",
    "new1,new2 = prime(l1) \n",
    "print('newlist1',new1)\n",
    "print('newlist2',new2)"
   ]
  },
  {
   "cell_type": "code",
   "execution_count": 71,
   "id": "6989634b-58a4-408d-afc1-05cb4e686de4",
   "metadata": {},
   "outputs": [
    {
     "name": "stdout",
     "output_type": "stream",
     "text": [
      "1\n",
      "2\n",
      "4\n",
      "6\n",
      "7\n",
      "8\n",
      "9\n"
     ]
    }
   ],
   "source": [
    "def myfunction(lst):\n",
    "    temp=0;\n",
    "    for i in range(0,len(list)):\n",
    "        for j in range(i+1,len(list)):\n",
    "            if (list[i]>list[j]):\n",
    "                temp=list[i];\n",
    "                list[i]=list[j];\n",
    "                list[j]=temp;\n",
    "list=[9,2,8,4,7,1,6]\n",
    "myfunction(list)\n",
    "for i in range(0,len(list)):\n",
    "   print(list[i])"
   ]
  },
  {
   "cell_type": "code",
   "execution_count": 83,
   "id": "f0c1742c-aead-4d40-9452-baeb0dfb4611",
   "metadata": {},
   "outputs": [
    {
     "name": "stdout",
     "output_type": "stream",
     "text": [
      "9\n",
      "7\n",
      "6\n",
      "5\n",
      "4\n",
      "3\n",
      "2\n"
     ]
    }
   ],
   "source": [
    "def function(list):\n",
    "     temp=0;\n",
    "     for i in range(0,len(list)):\n",
    "         for j in range(i+1,len(list)):\n",
    "             if (list[i]<list[j]):\n",
    "                 temp=list[i];\n",
    "                 list[i]=list[j];\n",
    "                 list[j]=temp;\n",
    "list=[2,5,6,3,4,9,7]\n",
    "function(list)\n",
    "for i in range(0,len(list)):\n",
    "    print(list[i])\n",
    "                 "
   ]
  },
  {
   "cell_type": "code",
   "execution_count": 109,
   "id": "0c33accb-9dad-47a3-ae07-9d9824738422",
   "metadata": {},
   "outputs": [
    {
     "name": "stdout",
     "output_type": "stream",
     "text": [
      "duplist:['d', 'e', 'r', 'b']\n"
     ]
    }
   ],
   "source": [
    "def dup(list):\n",
    "    temp=[]\n",
    "    for i in list:\n",
    "        if i not in temp:\n",
    "            temp.append(i)\n",
    "    return temp\n",
    "list=['d','e','r','e','b']\n",
    "list=dup(list)\n",
    "print(f'duplist:{list}')"
   ]
  },
  {
   "cell_type": "code",
   "execution_count": 3,
   "id": "20e44699-4f69-4d9a-8c8f-d319c47a9845",
   "metadata": {},
   "outputs": [
    {
     "name": "stdout",
     "output_type": "stream",
     "text": [
      "duplist:['e']\n"
     ]
    }
   ],
   "source": [
    "def dup(list):\n",
    "    temp=[]\n",
    "    for i in list:\n",
    "        if list.count(i)>1 and i not in temp:\n",
    "            temp.append(i)\n",
    "    return temp\n",
    "list=['d','e','r','e','b']\n",
    "list=dup(list)\n",
    "print(f'duplist:{list}')"
   ]
  },
  {
   "cell_type": "code",
   "execution_count": null,
   "id": "e51468ae-7b0a-484c-a48b-3187d2f436a6",
   "metadata": {},
   "outputs": [],
   "source": []
  }
 ],
 "metadata": {
  "kernelspec": {
   "display_name": "Python [conda env:base] *",
   "language": "python",
   "name": "conda-base-py"
  },
  "language_info": {
   "codemirror_mode": {
    "name": "ipython",
    "version": 3
   },
   "file_extension": ".py",
   "mimetype": "text/x-python",
   "name": "python",
   "nbconvert_exporter": "python",
   "pygments_lexer": "ipython3",
   "version": "3.12.7"
  }
 },
 "nbformat": 4,
 "nbformat_minor": 5
}
