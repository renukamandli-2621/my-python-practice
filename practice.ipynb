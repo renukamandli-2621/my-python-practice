{
 "cells": [
  {
   "cell_type": "code",
   "execution_count": 85,
   "id": "5924de9d-0fc9-4a45-b440-7c9aa048e044",
   "metadata": {},
   "outputs": [
    {
     "name": "stdout",
     "output_type": "stream",
     "text": [
      "ascendingorder:\n",
      "1\n",
      "2\n",
      "4\n",
      "5\n",
      "7\n",
      "8\n"
     ]
    }
   ],
   "source": [
    "mylist=[8,4,7,5,2,1];\n",
    "temp=0;\n",
    "for i in range(0,len(mylist)):\n",
    "    for j in range(i+1,len(mylist)):\n",
    "       if (mylist[i]>mylist[j]):\n",
    "        temp=mylist[i];\n",
    "        mylist[i]=mylist[j];\n",
    "        mylist[j]=temp;\n",
    "print('ascendingorder:')\n",
    "for i in range(0,len(mylist)):\n",
    "    print(mylist[i])\n",
    "        "
   ]
  },
  {
   "cell_type": "code",
   "execution_count": 81,
   "id": "96c15c88-e175-49f2-beda-2103bb599442",
   "metadata": {},
   "outputs": [
    {
     "name": "stdout",
     "output_type": "stream",
     "text": [
      "8\n",
      "7\n",
      "5\n",
      "4\n",
      "2\n",
      "1\n"
     ]
    }
   ],
   "source": [
    "mylist=[8,4,7,5,2,1];\n",
    "temp=0;\n",
    "for i in range(0,len(mylist)):\n",
    "    for j in range(i+1,len(mylist)):\n",
    "        if (mylist[i]<mylist[j]):\n",
    "            temp=mylist[i];\n",
    "            mylist[i]=mylist[j];\n",
    "            mylist[j]=temp;\n",
    "for i in range(0,len(mylist)):\n",
    "        print(mylist[i])\n",
    "\n",
    "    "
   ]
  },
  {
   "cell_type": "code",
   "execution_count": 95,
   "id": "bcd61d37-5e68-4406-b4ac-8baa220700c7",
   "metadata": {},
   "outputs": [
    {
     "name": "stdout",
     "output_type": "stream",
     "text": [
      "Elements in original array: \n",
      "5\n",
      "2\n",
      "3\n",
      "4\n",
      "1\n",
      "\n",
      "Array sorted in descending order: \n",
      "5\n",
      "4\n",
      "3\n",
      "2\n",
      "1\n"
     ]
    }
   ],
   "source": [
    "arr = [5, 2, 3, 4, 1]  # Original array\n",
    "temp = 0  # Temporary variable for swapping elements\n",
    "\n",
    "# Printing the original array\n",
    "print(\"Elements in original array: \")\n",
    "for i in range(0, len(arr)):\n",
    "    print(arr[i])\n",
    "\n",
    "# Bubble sort in descending order\n",
    "for i in range(0, len(arr)):\n",
    "    for j in range(i+1, len(arr)):  # Compare each element with the elements that come after it\n",
    "        if(arr[i] < arr[j]):  # Change the condition to sort in descending order\n",
    "            temp = arr[i]  # Store the element at index 'i'\n",
    "            arr[i] = arr[j]  # Swap the elements\n",
    "            arr[j] = temp  # Put the element from 'temp' into index 'j'\n",
    "\n",
    "# Printing the sorted array in descending order\n",
    "print(\"\\nArray sorted in descending order: \")\n",
    "for i in range(0,   .q m,  len(arr)):\n",
    "    print(arr[i])\n"
   ]
  },
  {
   "cell_type": "code",
   "execution_count": 103,
   "id": "8b01b04c-58ae-4b26-a9a8-ce9a2b24187e",
   "metadata": {},
   "outputs": [
    {
     "name": "stdout",
     "output_type": "stream",
     "text": [
      "i 0\n",
      "2\n",
      "Yes\n"
     ]
    }
   ],
   "source": [
    "def is_palindrome(s):\n",
    "    for i in range(0, len(s) // 2):\n",
    "        print('i', i)\n",
    "        print(len(s) - i - 1)\n",
    "        if s[i] != s[len(s) - i - 1]:\n",
    "            return False\n",
    "    return True\n",
    "\n",
    "# Main function                                                 this one\n",
    "s = \"aba\"\n",
    "if is_palindrome(s):\n",
    "    print(\"Yes\")\n",
    "else:\n",
    "    print(\"No\")\n"
   ]
  },
  {
   "cell_type": "code",
   "execution_count": 11,
   "id": "559cd9f7-71de-4e3f-aecb-66bebdc9f9ab",
   "metadata": {},
   "outputs": [
    {
     "name": "stdout",
     "output_type": "stream",
     "text": [
      "12345\n",
      "1\n",
      "2\n",
      "3\n",
      "4\n",
      "5\n",
      "15\n"
     ]
    }
   ],
   "source": [
    "number = 12345\n",
    "number1 = str(number)\n",
    "print(str(number))\n",
    "sum = 0\n",
    "for i in number1:\n",
    "    sum= sum+int(i)\n",
    "    print(int(i))\n",
    "print(sum)"
   ]
  },
  {
   "cell_type": "code",
   "execution_count": 93,
   "id": "0487aa8d-4e40-4443-9666-54b42167438d",
   "metadata": {},
   "outputs": [
    {
     "data": {
      "text/plain": [
       "(2, 2)"
      ]
     },
     "execution_count": 93,
     "metadata": {},
     "output_type": "execute_result"
    }
   ],
   "source": [
    "def min_difference_pair(lst):\n",
    "    diff = 0\n",
    "    minDiff = float('inf')\n",
    "    lst.sort()\n",
    "    mainPair = ()\n",
    "    for i in range(len(lst)-1):\n",
    "        diff = lst[i+1] - lst[i]\n",
    "        if diff < minDiff:\n",
    "            minDiff = diff\n",
    "            mainPair =  (lst[i], lst[i + 1])\n",
    "    return mainPair\n",
    "lst=[3,2,4,6,8,2]\n",
    "min_difference_pair(lst)\n",
    "         "
   ]
  },
  {
   "cell_type": "code",
   "execution_count": 86,
   "id": "0909de2b-f1eb-4155-a919-2989e590c032",
   "metadata": {},
   "outputs": [
    {
     "data": {
      "text/plain": [
       "([8, 12], [3, 15, 1, 9])"
      ]
     },
     "execution_count": 86,
     "metadata": {},
     "output_type": "execute_result"
    }
   ],
   "source": [
    "def even_odd_partition(numbers):\n",
    "    evennumbers=[]\n",
    "    oddnumbers=[]\n",
    "    for i in range(len(numbers)):\n",
    "        if numbers[i]%2==0:\n",
    "            evennumbers.append(numbers[i])\n",
    "        elif numbers[i]%2!=0:\n",
    "            oddnumbers.append(numbers[i])\n",
    "    return (evennumbers, oddnumbers)\n",
    "even_odd_partition([3, 8, 15, 1, 9, 12])"
   ]
  },
  {
   "cell_type": "code",
   "execution_count": 92,
   "id": "3d519dab-2527-4ad0-9e5c-a0b3fa28b629",
   "metadata": {},
   "outputs": [
    {
     "name": "stdout",
     "output_type": "stream",
     "text": [
      "['a', 'b', 'e', 'e', 'g']\n"
     ]
    }
   ],
   "source": [
    "def sort_letters_with_loop(letters):\n",
    "    # Bubble sort algorithm\n",
    "    n = len(letters)\n",
    "    \n",
    "    # Traverse through all letters in the list\n",
    "    for i in range(n):\n",
    "        # Last i elements are already sorted\n",
    "        for j in range(0, n-i-1):\n",
    "            # Swap if the element found is greater than the next element\n",
    "            if letters[j] > letters[j+1]:\n",
    "                letters[j], letters[j+1] = letters[j+1], letters[j]\n",
    "    \n",
    "    return letters\n",
    "\n",
    "# Example usage\n",
    "letters = ['e', 'g', 'b', 'a', 'e']\n",
    "sorted_letters = sort_letters_with_loop(letters)\n",
    "print(sorted_letters)"
   ]
  },
  {
   "cell_type": "code",
   "execution_count": 95,
   "id": "df0ca0fe-c495-499e-bffc-b2634e926e2f",
   "metadata": {},
   "outputs": [
    {
     "name": "stdout",
     "output_type": "stream",
     "text": [
      "['d', 'f', 'g', 'h', 'r', 'w']\n"
     ]
    }
   ],
   "source": [
    "\n",
    "def list(letter):\n",
    "   n=len(letter)\n",
    "   for i in range(n):\n",
    "       for j in range (0,n-i-1):\n",
    "           if letter[j]>letter[j+1]:                                           \n",
    "                                                                                #this one\n",
    "              letter[j],letter[j+1]=letter[j+1],letter[j]\n",
    "   return letter\n",
    "letter=['f','r','w','d','g','h']\n",
    "print(list(letter))\n"
   ]
  },
  {
   "cell_type": "code",
   "execution_count": 152,
   "id": "094b1bbf-4d0f-4922-a0ca-181d89855f4f",
   "metadata": {},
   "outputs": [
    {
     "name": "stdout",
     "output_type": "stream",
     "text": [
      "1\n",
      "h\n"
     ]
    }
   ],
   "source": [
    "list=['d', 'f', 'g', 'h', 'r', 'w']\n",
    "print(list.index('f'))\n",
    "print(list[3])"
   ]
  },
  {
   "cell_type": "code",
   "execution_count": 214,
   "id": "6aa0353a-5300-4648-b700-5ddf8d778cab",
   "metadata": {},
   "outputs": [
    {
     "name": "stdout",
     "output_type": "stream",
     "text": [
      "Not in list\n"
     ]
    }
   ],
   "source": [
    "def list(leter, val):\n",
    "    test=False\n",
    "    for i in range(len(leter)):\n",
    "        if (leter[i] == val):\n",
    "            test = True\n",
    "    return test\n",
    "leter=['d', 'f', 'g', 'h', 'r', 'w','a']\n",
    "if(list(leter, 'b')):\n",
    "    print('In list')\n",
    "else:\n",
    "    print('Not in list')\n",
    "# print(list.index('a'))\n",
    "\n"
   ]
  },
  {
   "cell_type": "code",
   "execution_count": 266,
   "id": "49a1c39d-ba1b-4a7e-8c09-5ef8e05ae311",
   "metadata": {},
   "outputs": [
    {
     "name": "stdout",
     "output_type": "stream",
     "text": [
      "not in list\n"
     ]
    }
   ],
   "source": [
    "def gud(num,num1):\n",
    "    for x in range(0,len(num)):\n",
    "        if (num[x] == num1):\n",
    "            print('in list')\n",
    "            return\n",
    "    print('not in list')\n",
    "num=['d', 'f', 'g', 'h', 'r', 'w','a']\n",
    "gud(num,'b')"
   ]
  },
  {
   "cell_type": "code",
   "execution_count": 264,
   "id": "9477c71c-8275-4de0-9a7a-425869e27757",
   "metadata": {},
   "outputs": [
    {
     "name": "stdout",
     "output_type": "stream",
     "text": [
      "not in list\n"
     ]
    }
   ],
   "source": [
    "def gud(num,num1):\n",
    "    for x in range(0,len(num)):\n",
    "        if (num[x] == num1):\n",
    "            print('in list')\n",
    "            return\n",
    "    print('not in list')\n",
    "num=[1,2,3,4,5,6,7]\n",
    "gud(num,'9') "
   ]
  },
  {
   "cell_type": "code",
   "execution_count": 29,
   "id": "df16ae07-090c-402a-9610-b9e6b95f6ac7",
   "metadata": {},
   "outputs": [
    {
     "name": "stdout",
     "output_type": "stream",
     "text": [
      "not in list\n"
     ]
    }
   ],
   "source": [
    "def gud(num, num1):\n",
    "    for x in range(0, len(num)):\n",
    "        if num[x] == num1:\n",
    "            print('in list')\n",
    "         # Exit the function as soon as we find the item\n",
    "    print('not in list')\n",
    "\n",
    "num = ['d', 'f', 'g', 'h', 'r', 'w', 'a']\n",
    "gud(num, 'b')  # No need to print the result as the function already prints\n"
   ]
  },
  {
   "cell_type": "code",
   "execution_count": 3,
   "id": "1f26b06f-e885-4e92-886c-0cdc84994b7b",
   "metadata": {},
   "outputs": [
    {
     "data": {
      "text/plain": [
       "['a', 'b', 'c', 'd', 'e', 'g', 'f', 'h']"
      ]
     },
     "execution_count": 3,
     "metadata": {},
     "output_type": "execute_result"
    }
   ],
   "source": [
    "def myfunction(num):\n",
    "   return list(dict.fromkeys(num))\n",
    "num=['a','b','c','d','a','e','g','f','a','h','a']\n",
    "myfunction(num)"
   ]
  },
  {
   "cell_type": "code",
   "execution_count": 5,
   "id": "3218d9b1-2d2b-4cd2-b2fa-bfaa1fcdc5fa",
   "metadata": {},
   "outputs": [
    {
     "data": {
      "text/plain": [
       "['a', 'b', 'c', 'd', 'e', 'g', 'f', 'h']"
      ]
     },
     "execution_count": 5,
     "metadata": {},
     "output_type": "execute_result"
    }
   ],
   "source": [
    "def myfunction(num):\n",
    "   return list(dict.fromkeys(num))\n",
    "\n",
    "num = ['a', 'b', 'c', 'd', 'a', 'e', 'g', 'f', 'a', 'h', 'a']\n",
    "myfunction(num)\n"
   ]
  },
  {
   "cell_type": "code",
   "execution_count": 7,
   "id": "788ec880-aedf-438f-afb7-4345808ef465",
   "metadata": {},
   "outputs": [
    {
     "data": {
      "text/plain": [
       "['a', 'b', 'c', 'd', 'e', 'g', 'f', 'h']"
      ]
     },
     "execution_count": 7,
     "metadata": {},
     "output_type": "execute_result"
    }
   ],
   "source": [
    "def myfunction(num):\n",
    "   return list(dict.fromkeys(num))\n",
    "num = ['a', 'b', 'c', 'd', 'a', 'e', 'g', 'f', 'a', 'h', 'a']\n",
    "myfunction(num)\n"
   ]
  },
  {
   "cell_type": "code",
   "execution_count": 15,
   "id": "1aca0c82-8ff8-45df-9ad5-68b74662495c",
   "metadata": {},
   "outputs": [
    {
     "name": "stdout",
     "output_type": "stream",
     "text": [
      "a\n"
     ]
    }
   ],
   "source": [
    "from collections import Counter\n",
    "def myfunction(num):\n",
    "   counts=Counter(num)\n",
    "   for i in counts:\n",
    "        if counts[i]>1:\n",
    "           print(i)\n",
    "num=['a', 'b', 'c', 'd', 'a', 'e', 'g', 'f', 'a', 'h', 'a']\n",
    "myfunction(num)"
   ]
  },
  {
   "cell_type": "code",
   "execution_count": 5,
   "id": "a350aa8b-c9bc-4ef7-a04b-220ec162a4f9",
   "metadata": {},
   "outputs": [
    {
     "ename": "TypeError",
     "evalue": "'>' not supported between instances of 'dict' and 'int'",
     "output_type": "error",
     "traceback": [
      "\u001b[0;31m---------------------------------------------------------------------------\u001b[0m",
      "\u001b[0;31mTypeError\u001b[0m                                 Traceback (most recent call last)",
      "Cell \u001b[0;32mIn[5], line 12\u001b[0m\n\u001b[1;32m     10\u001b[0m             \u001b[38;5;28mprint\u001b[39m(i)\n\u001b[1;32m     11\u001b[0m num\u001b[38;5;241m=\u001b[39m[\u001b[38;5;124m'\u001b[39m\u001b[38;5;124ma\u001b[39m\u001b[38;5;124m'\u001b[39m, \u001b[38;5;124m'\u001b[39m\u001b[38;5;124mb\u001b[39m\u001b[38;5;124m'\u001b[39m, \u001b[38;5;124m'\u001b[39m\u001b[38;5;124mc\u001b[39m\u001b[38;5;124m'\u001b[39m, \u001b[38;5;124m'\u001b[39m\u001b[38;5;124md\u001b[39m\u001b[38;5;124m'\u001b[39m, \u001b[38;5;124m'\u001b[39m\u001b[38;5;124ma\u001b[39m\u001b[38;5;124m'\u001b[39m, \u001b[38;5;124m'\u001b[39m\u001b[38;5;124me\u001b[39m\u001b[38;5;124m'\u001b[39m, \u001b[38;5;124m'\u001b[39m\u001b[38;5;124mg\u001b[39m\u001b[38;5;124m'\u001b[39m, \u001b[38;5;124m'\u001b[39m\u001b[38;5;124mf\u001b[39m\u001b[38;5;124m'\u001b[39m, \u001b[38;5;124m'\u001b[39m\u001b[38;5;124ma\u001b[39m\u001b[38;5;124m'\u001b[39m, \u001b[38;5;124m'\u001b[39m\u001b[38;5;124mh\u001b[39m\u001b[38;5;124m'\u001b[39m, \u001b[38;5;124m'\u001b[39m\u001b[38;5;124ma\u001b[39m\u001b[38;5;124m'\u001b[39m]\n\u001b[0;32m---> 12\u001b[0m myfunction(num)\n",
      "Cell \u001b[0;32mIn[5], line 9\u001b[0m, in \u001b[0;36mmyfunction\u001b[0;34m(num)\u001b[0m\n\u001b[1;32m      7\u001b[0m         counts[i]\u001b[38;5;241m=\u001b[39m\u001b[38;5;241m1\u001b[39m\n\u001b[1;32m      8\u001b[0m \u001b[38;5;28;01mfor\u001b[39;00m i , count \u001b[38;5;129;01min\u001b[39;00m counts\u001b[38;5;241m.\u001b[39mitems():\n\u001b[0;32m----> 9\u001b[0m     \u001b[38;5;28;01mif\u001b[39;00m counts \u001b[38;5;241m>\u001b[39m \u001b[38;5;241m1\u001b[39m:  \u001b[38;5;66;03m# Check if the letter is repeated\u001b[39;00m\n\u001b[1;32m     10\u001b[0m         \u001b[38;5;28mprint\u001b[39m(i)\n",
      "\u001b[0;31mTypeError\u001b[0m: '>' not supported between instances of 'dict' and 'int'"
     ]
    }
   ],
   "source": [
    "def myfunction(num):\n",
    "    counts={}\n",
    "    for i in num:\n",
    "        if i in counts:\n",
    "            counts[i]+=1\n",
    "        else:\n",
    "            counts[i]=1\n",
    "    for i , count in counts.items():\n",
    "        if counts > 1:  # Check if the letter is repeated                this one\n",
    "            print(i)\n",
    "num=['a', 'b', 'c', 'd', 'a', 'e', 'g', 'f', 'a', 'h', 'a']\n",
    "myfunction(num)"
   ]
  },
  {
   "cell_type": "code",
   "execution_count": 9,
   "id": "68029e03-ea7f-487d-92df-22946603991b",
   "metadata": {},
   "outputs": [
    {
     "name": "stdout",
     "output_type": "stream",
     "text": [
      "a\n"
     ]
    }
   ],
   "source": [
    "def myfunction(num):\n",
    "    counts = {}\n",
    "    for i in num:\n",
    "        if i in counts:\n",
    "            counts[i] += 1\n",
    "        else:\n",
    "            counts[i] = 1\n",
    "\n",
    "    for letter, count in counts.items():  \n",
    "        if count > 1:  \n",
    "            print(letter) \n",
    "\n",
    "num = ['a', 'b', 'c', 'd', 'a', 'e', 'g', 'f', 'a', 'h', 'a']\n",
    "myfunction(num)"
   ]
  },
  {
   "cell_type": "code",
   "execution_count": 25,
   "id": "7c381ac2-5f82-4cd7-8080-d12f4370d9f3",
   "metadata": {},
   "outputs": [
    {
     "name": "stdout",
     "output_type": "stream",
     "text": [
      "newnum1: 22\n",
      "newnum: 22\n"
     ]
    }
   ],
   "source": [
    "num=10\n",
    "num1='12'\n",
    "newnum1=int(num1)\n",
    "sum=num+newnum1\n",
    "print('newnum1:',sum)\n",
    "print(f'newnum: {sum}')"
   ]
  },
  {
   "cell_type": "code",
   "execution_count": null,
   "id": "8f09e7ab-5d79-4de1-bf6c-cf159d805165",
   "metadata": {},
   "outputs": [],
   "source": []
  }
 ],
 "metadata": {
  "kernelspec": {
   "display_name": "Python [conda env:base] *",
   "language": "python",
   "name": "conda-base-py"
  },
  "language_info": {
   "codemirror_mode": {
    "name": "ipython",
    "version": 3
   },
   "file_extension": ".py",
   "mimetype": "text/x-python",
   "name": "python",
   "nbconvert_exporter": "python",
   "pygments_lexer": "ipython3",
   "version": "3.12.7"
  }
 },
 "nbformat": 4,
 "nbformat_minor": 5
}
