{
 "cells": [
  {
   "cell_type": "code",
   "execution_count": 3,
   "id": "2d6fed49-8bae-40dc-9c3f-561d9f4f3f63",
   "metadata": {},
   "outputs": [
    {
     "data": {
      "text/plain": [
       "'Renuka'"
      ]
     },
     "execution_count": 3,
     "metadata": {},
     "output_type": "execute_result"
    }
   ],
   "source": [
    "mystring=\"Renuka\"\n",
    "mystring"
   ]
  },
  {
   "cell_type": "code",
   "execution_count": 5,
   "id": "48555fd3-d2a1-40f6-bb60-4fc2fc5a5ac6",
   "metadata": {},
   "outputs": [
    {
     "data": {
      "text/plain": [
       "6"
      ]
     },
     "execution_count": 5,
     "metadata": {},
     "output_type": "execute_result"
    }
   ],
   "source": [
    "len(mystring)"
   ]
  },
  {
   "cell_type": "code",
   "execution_count": 7,
   "id": "41e3d628-1bc0-42af-88dd-2af4c07a9224",
   "metadata": {},
   "outputs": [
    {
     "data": {
      "text/plain": [
       "'R'"
      ]
     },
     "execution_count": 7,
     "metadata": {},
     "output_type": "execute_result"
    }
   ],
   "source": [
    "mystring[0]"
   ]
  },
  {
   "cell_type": "code",
   "execution_count": 9,
   "id": "214e9baa-95ac-43e9-86e0-f76df9d4056e",
   "metadata": {},
   "outputs": [
    {
     "data": {
      "text/plain": [
       "'nuka'"
      ]
     },
     "execution_count": 9,
     "metadata": {},
     "output_type": "execute_result"
    }
   ],
   "source": [
    "mystring[2:]"
   ]
  },
  {
   "cell_type": "code",
   "execution_count": 11,
   "id": "277abc28-239c-48de-905c-5780673f363a",
   "metadata": {},
   "outputs": [
    {
     "data": {
      "text/plain": [
       "'Re'"
      ]
     },
     "execution_count": 11,
     "metadata": {},
     "output_type": "execute_result"
    }
   ],
   "source": [
    "mystring[:2]"
   ]
  },
  {
   "cell_type": "code",
   "execution_count": 15,
   "id": "1a43d57c-5b51-4b0b-9b2d-76180048bbeb",
   "metadata": {},
   "outputs": [
    {
     "data": {
      "text/plain": [
       "'nu'"
      ]
     },
     "execution_count": 15,
     "metadata": {},
     "output_type": "execute_result"
    }
   ],
   "source": [
    "mystring[2:4]"
   ]
  },
  {
   "cell_type": "code",
   "execution_count": 19,
   "id": "0d7eb9dc-dc49-4cc4-8bf4-5c489cede716",
   "metadata": {},
   "outputs": [
    {
     "data": {
      "text/plain": [
       "'ka'"
      ]
     },
     "execution_count": 19,
     "metadata": {},
     "output_type": "execute_result"
    }
   ],
   "source": [
    "mystring[4:6]"
   ]
  },
  {
   "cell_type": "code",
   "execution_count": 21,
   "id": "be0622fb-ae72-4e6e-bf7c-27df6db3570a",
   "metadata": {},
   "outputs": [
    {
     "data": {
      "text/plain": [
       "'welcome to the world'"
      ]
     },
     "execution_count": 21,
     "metadata": {},
     "output_type": "execute_result"
    }
   ],
   "source": [
    "mystring=\"welcome to the world\"\n",
    "mystring"
   ]
  },
  {
   "cell_type": "code",
   "execution_count": 23,
   "id": "eb765ff6-6e18-496b-b151-580279ec884f",
   "metadata": {},
   "outputs": [
    {
     "data": {
      "text/plain": [
       "20"
      ]
     },
     "execution_count": 23,
     "metadata": {},
     "output_type": "execute_result"
    }
   ],
   "source": [
    "len(mystring)"
   ]
  },
  {
   "cell_type": "code",
   "execution_count": 35,
   "id": "212683e1-14e0-4dfc-ba08-2a5f531fd40a",
   "metadata": {},
   "outputs": [
    {
     "data": {
      "text/plain": [
       "str"
      ]
     },
     "execution_count": 35,
     "metadata": {},
     "output_type": "execute_result"
    }
   ],
   "source": [
    "type(mystring)"
   ]
  },
  {
   "cell_type": "code",
   "execution_count": 39,
   "id": "677ca3d4-74da-4460-9b33-20a6d1eef7c5",
   "metadata": {},
   "outputs": [
    {
     "data": {
      "text/plain": [
       "'welcome to the world'"
      ]
     },
     "execution_count": 39,
     "metadata": {},
     "output_type": "execute_result"
    }
   ],
   "source": [
    "mystring"
   ]
  },
  {
   "cell_type": "code",
   "execution_count": 41,
   "id": "03cb2f57-4b78-43c4-8259-c4156b612aa6",
   "metadata": {},
   "outputs": [
    {
     "data": {
      "text/plain": [
       "'the'"
      ]
     },
     "execution_count": 41,
     "metadata": {},
     "output_type": "execute_result"
    }
   ],
   "source": [
    "mystring[11:14]"
   ]
  },
  {
   "cell_type": "code",
   "execution_count": 45,
   "id": "7f8473c1-a78c-4f0c-8744-1e0c4ff82dd7",
   "metadata": {},
   "outputs": [
    {
     "data": {
      "text/plain": [
       "'ecm ote'"
      ]
     },
     "execution_count": 45,
     "metadata": {},
     "output_type": "execute_result"
    }
   ],
   "source": [
    "mystring[1:14:2]"
   ]
  },
  {
   "cell_type": "code",
   "execution_count": 47,
   "id": "8fcf9efb-053f-4823-bf58-5e50271a3e11",
   "metadata": {},
   "outputs": [
    {
     "data": {
      "text/plain": [
       "'dlrow eht ot emoclew'"
      ]
     },
     "execution_count": 47,
     "metadata": {},
     "output_type": "execute_result"
    }
   ],
   "source": [
    "mystring[::-1]"
   ]
  },
  {
   "cell_type": "code",
   "execution_count": 49,
   "id": "118baa49-87c6-4cf3-b9c2-1524c3cb5b1f",
   "metadata": {},
   "outputs": [],
   "source": [
    "x=\"sam\""
   ]
  },
  {
   "cell_type": "code",
   "execution_count": 51,
   "id": "c91af678-f016-4f72-92dc-3c03c2338ed5",
   "metadata": {},
   "outputs": [],
   "source": [
    "x=\"sam\""
   ]
  },
  {
   "cell_type": "code",
   "execution_count": 53,
   "id": "abed8e3f-8280-435f-9d0e-90af8177ea98",
   "metadata": {},
   "outputs": [
    {
     "data": {
      "text/plain": [
       "'am'"
      ]
     },
     "execution_count": 53,
     "metadata": {},
     "output_type": "execute_result"
    }
   ],
   "source": [
    "x[1:]"
   ]
  },
  {
   "cell_type": "code",
   "execution_count": 57,
   "id": "7871abe8-2e74-4919-80f4-2c781440b0d0",
   "metadata": {},
   "outputs": [],
   "source": [
    "last_letters=x[1:]"
   ]
  },
  {
   "cell_type": "code",
   "execution_count": 61,
   "id": "932722f0-94fe-4c36-b477-699cb29286b6",
   "metadata": {},
   "outputs": [
    {
     "data": {
      "text/plain": [
       "'pam'"
      ]
     },
     "execution_count": 61,
     "metadata": {},
     "output_type": "execute_result"
    }
   ],
   "source": [
    "'p'+last_letters"
   ]
  },
  {
   "cell_type": "code",
   "execution_count": 63,
   "id": "17545919-da88-426a-925d-62272553fa01",
   "metadata": {},
   "outputs": [],
   "source": [
    "x='hello world'"
   ]
  },
  {
   "cell_type": "code",
   "execution_count": 70,
   "id": "3dcdf3a0-2bdf-4859-a45e-2be3c9e42759",
   "metadata": {},
   "outputs": [
    {
     "data": {
      "text/plain": [
       "'hello world abcdefghi'"
      ]
     },
     "execution_count": 70,
     "metadata": {},
     "output_type": "execute_result"
    }
   ],
   "source": [
    "x+' abcdefghi'"
   ]
  },
  {
   "cell_type": "code",
   "execution_count": 76,
   "id": "7ae0f72f-23ab-419c-aa4d-1911e522e389",
   "metadata": {},
   "outputs": [],
   "source": [
    "x=x+' abcdefghi'"
   ]
  },
  {
   "cell_type": "code",
   "execution_count": 82,
   "id": "45924ceb-dff7-4d6a-8ba5-cbe04c63abe2",
   "metadata": {},
   "outputs": [
    {
     "data": {
      "text/plain": [
       "'hello world abcdefghi abcdefghi abcdefghi'"
      ]
     },
     "execution_count": 82,
     "metadata": {},
     "output_type": "execute_result"
    }
   ],
   "source": [
    "x"
   ]
  },
  {
   "cell_type": "code",
   "execution_count": 86,
   "id": "ed6376bd-f0ba-41b3-8227-ec782abf3656",
   "metadata": {},
   "outputs": [
    {
     "data": {
      "text/plain": [
       "'hello world abcdefghi abcdefghi abcdefghi'"
      ]
     },
     "execution_count": 86,
     "metadata": {},
     "output_type": "execute_result"
    }
   ],
   "source": [
    "x"
   ]
  },
  {
   "cell_type": "code",
   "execution_count": 91,
   "id": "e82586d2-570c-4d1b-803d-e731311c0a78",
   "metadata": {},
   "outputs": [
    {
     "name": "stdout",
     "output_type": "stream",
     "text": [
      "this abc abc1\n"
     ]
    }
   ],
   "source": [
    "print('this {} {}'.format('abc','abc1'))                    "
   ]
  },
  {
   "cell_type": "code",
   "execution_count": 101,
   "id": "79bb8011-0980-4938-89c8-4d7cf6151d12",
   "metadata": {},
   "outputs": [
    {
     "name": "stdout",
     "output_type": "stream",
     "text": [
      "the abc3 abc5 abc4\n"
     ]
    }
   ],
   "source": [
    "print('the {0} {2} {1}'.format('abc3','abc4','abc5'))"
   ]
  },
  {
   "cell_type": "markdown",
   "id": "8a94f536-350c-4d1b-ab26-41dfa9c2641d",
   "metadata": {},
   "source": []
  },
  {
   "cell_type": "code",
   "execution_count": 103,
   "id": "0fddfa36-d114-4909-ae29-229f0a57afa7",
   "metadata": {},
   "outputs": [
    {
     "name": "stdout",
     "output_type": "stream",
     "text": [
      "thea z x\n"
     ]
    }
   ],
   "source": [
    "print('the{} {} {}'.format('a','z','x'))"
   ]
  },
  {
   "cell_type": "code",
   "execution_count": 117,
   "id": "284f5e12-898a-406a-97ab-043bda7337a2",
   "metadata": {},
   "outputs": [
    {
     "name": "stdout",
     "output_type": "stream",
     "text": [
      "this value 132.34\n"
     ]
    }
   ],
   "source": [
    "renu = 132.343\n",
    "print(\"this value {r:1.2f}\".format(r=renu))"
   ]
  },
  {
   "cell_type": "raw",
   "id": "88645911-b910-40c6-898d-eb246764a159",
   "metadata": {},
   "source": [
    "result=234.12345\n",
    "print(\"this {r:2.3f}\".format(r=result))"
   ]
  },
  {
   "cell_type": "code",
   "execution_count": 120,
   "id": "d2f12a55-c160-4d8a-b432-15708d022574",
   "metadata": {},
   "outputs": [
    {
     "name": "stdout",
     "output_type": "stream",
     "text": [
      "this 234.123\n"
     ]
    }
   ],
   "source": [
    "result=234.12345\n",
    "print(\"this {r:2.3f}\".format(r=result))"
   ]
  },
  {
   "cell_type": "code",
   "execution_count": 160,
   "id": "f7ce68c1-1ff5-45b4-add1-d85c27352fa9",
   "metadata": {},
   "outputs": [
    {
     "name": "stdout",
     "output_type": "stream",
     "text": [
      "this value john\n"
     ]
    }
   ],
   "source": [
    "\n",
    "print(\"this value {}\".format('john'))"
   ]
  },
  {
   "cell_type": "code",
   "execution_count": 162,
   "id": "5f61655e-3306-4c3d-afef-ad0d06209850",
   "metadata": {},
   "outputs": [
    {
     "name": "stdout",
     "output_type": "stream",
     "text": [
      "this value john\n"
     ]
    }
   ],
   "source": [
    "\n",
    "print(f\"this value {'john'}\")"
   ]
  },
  {
   "cell_type": "code",
   "execution_count": 152,
   "id": "d00f6d19-0791-43df-9b7b-5fc5a059d4f9",
   "metadata": {},
   "outputs": [
    {
     "name": "stdout",
     "output_type": "stream",
     "text": [
      "this janu is 3 years of old.\n"
     ]
    }
   ],
   "source": [
    "name=\"janu\"\n",
    "age=3\n",
    "print(f\"this {name} is {age} years of old.\")"
   ]
  },
  {
   "cell_type": "code",
   "execution_count": 164,
   "id": "84675462-3ac8-47b4-a1c9-1bc35c089517",
   "metadata": {},
   "outputs": [],
   "source": [
    "mylist=['one','two','three']\n",
    "addlist=['four','five']"
   ]
  },
  {
   "cell_type": "code",
   "execution_count": 174,
   "id": "1d7971ac-f114-4093-9479-8057fe03339d",
   "metadata": {},
   "outputs": [
    {
     "data": {
      "text/plain": [
       "['one', 'two', 'three', 'four', 'five']"
      ]
     },
     "execution_count": 174,
     "metadata": {},
     "output_type": "execute_result"
    }
   ],
   "source": [
    "mylist+addlist"
   ]
  },
  {
   "cell_type": "code",
   "execution_count": 178,
   "id": "c3b1dcda-3eec-4d5a-aa58-9abdd69d94fe",
   "metadata": {},
   "outputs": [
    {
     "data": {
      "text/plain": [
       "['one', 'two', 'three', 'four', 'five']"
      ]
     },
     "execution_count": 178,
     "metadata": {},
     "output_type": "execute_result"
    }
   ],
   "source": [
    "newlist=mylist+addlist\n",
    "newlist"
   ]
  },
  {
   "cell_type": "code",
   "execution_count": 183,
   "id": "982d6327-dd83-4632-9aba-258b597ba42a",
   "metadata": {},
   "outputs": [
    {
     "data": {
      "text/plain": [
       "['one all caps', 'two', 'three', 'four', 'five']"
      ]
     },
     "execution_count": 183,
     "metadata": {},
     "output_type": "execute_result"
    }
   ],
   "source": [
    "newlist[0]=\"one all caps\"\n",
    "newlist"
   ]
  },
  {
   "cell_type": "code",
   "execution_count": 187,
   "id": "bc866e5f-cd8e-441c-a1a1-7c508fca90a8",
   "metadata": {},
   "outputs": [
    {
     "data": {
      "text/plain": [
       "['one all caps', 'two', 'three', 'four', 'five', 'six']"
      ]
     },
     "execution_count": 187,
     "metadata": {},
     "output_type": "execute_result"
    }
   ],
   "source": [
    "newlist.append('six')\n",
    "newlist"
   ]
  },
  {
   "cell_type": "code",
   "execution_count": 189,
   "id": "999f19e4-b3a2-40dc-b5ed-0be9d92b0a38",
   "metadata": {},
   "outputs": [
    {
     "data": {
      "text/plain": [
       "['one all caps', 'two', 'three', 'four', 'five', 'six', 'seven']"
      ]
     },
     "execution_count": 189,
     "metadata": {},
     "output_type": "execute_result"
    }
   ],
   "source": [
    "newlist.append('seven')\n",
    "newlist"
   ]
  },
  {
   "cell_type": "code",
   "execution_count": 191,
   "id": "391e275a-d5ce-4e64-9bb4-5f74ecc18a0f",
   "metadata": {},
   "outputs": [
    {
     "data": {
      "text/plain": [
       "'seven'"
      ]
     },
     "execution_count": 191,
     "metadata": {},
     "output_type": "execute_result"
    }
   ],
   "source": [
    "newlist.pop()"
   ]
  },
  {
   "cell_type": "code",
   "execution_count": 193,
   "id": "36fb3656-4b40-4cc9-8eb3-8b540abf1c43",
   "metadata": {},
   "outputs": [
    {
     "data": {
      "text/plain": [
       "'six'"
      ]
     },
     "execution_count": 193,
     "metadata": {},
     "output_type": "execute_result"
    }
   ],
   "source": [
    "poppeditem=newlist.pop()\n",
    "poppeditem"
   ]
  },
  {
   "cell_type": "code",
   "execution_count": 195,
   "id": "f803119f-959c-44e8-8218-a969935c0920",
   "metadata": {},
   "outputs": [
    {
     "data": {
      "text/plain": [
       "['one all caps', 'two', 'three', 'four', 'five']"
      ]
     },
     "execution_count": 195,
     "metadata": {},
     "output_type": "execute_result"
    }
   ],
   "source": [
    "newlist"
   ]
  },
  {
   "cell_type": "code",
   "execution_count": 197,
   "id": "a82e20e0-9d09-4f0e-9b8b-445ed3fd9b46",
   "metadata": {},
   "outputs": [
    {
     "data": {
      "text/plain": [
       "'one all caps'"
      ]
     },
     "execution_count": 197,
     "metadata": {},
     "output_type": "execute_result"
    }
   ],
   "source": [
    "newlist.pop(0)"
   ]
  },
  {
   "cell_type": "code",
   "execution_count": 199,
   "id": "d86fb2be-f7bc-4fb4-8a80-6003cb3cbee0",
   "metadata": {},
   "outputs": [
    {
     "data": {
      "text/plain": [
       "['two', 'three', 'four', 'five']"
      ]
     },
     "execution_count": 199,
     "metadata": {},
     "output_type": "execute_result"
    }
   ],
   "source": [
    "newlist"
   ]
  },
  {
   "cell_type": "code",
   "execution_count": 201,
   "id": "096c5322-8526-4ab5-8869-c4d0d3da47cf",
   "metadata": {},
   "outputs": [
    {
     "data": {
      "text/plain": [
       "'five'"
      ]
     },
     "execution_count": 201,
     "metadata": {},
     "output_type": "execute_result"
    }
   ],
   "source": [
    "newlist.pop(-1)"
   ]
  },
  {
   "cell_type": "code",
   "execution_count": 203,
   "id": "3edb7a3a-ce5d-4b36-aa38-45a3b3c1f556",
   "metadata": {},
   "outputs": [
    {
     "data": {
      "text/plain": [
       "['two', 'three', 'four']"
      ]
     },
     "execution_count": 203,
     "metadata": {},
     "output_type": "execute_result"
    }
   ],
   "source": [
    "newlist"
   ]
  },
  {
   "cell_type": "code",
   "execution_count": 205,
   "id": "fdbaa3bc-62ef-4752-847f-02756a6b2fe2",
   "metadata": {},
   "outputs": [],
   "source": [
    "alphalist=['d','g','a','c',]\n",
    "numlist=[4,8,3,2,1]"
   ]
  },
  {
   "cell_type": "code",
   "execution_count": 207,
   "id": "bb8766ac-9f97-45a3-9a9f-f103b8e0d33c",
   "metadata": {},
   "outputs": [],
   "source": [
    "alphalist.sort()"
   ]
  },
  {
   "cell_type": "code",
   "execution_count": 209,
   "id": "bdc1b71f-16e2-4463-a90b-0e01fd6b7cea",
   "metadata": {},
   "outputs": [
    {
     "data": {
      "text/plain": [
       "['a', 'c', 'd', 'g']"
      ]
     },
     "execution_count": 209,
     "metadata": {},
     "output_type": "execute_result"
    }
   ],
   "source": [
    "alphalist"
   ]
  },
  {
   "cell_type": "code",
   "execution_count": 218,
   "id": "a8d24d17-e866-4ea9-b24d-1719ebaf8f13",
   "metadata": {},
   "outputs": [],
   "source": [
    "mysortedlist=alphalist"
   ]
  },
  {
   "cell_type": "code",
   "execution_count": 220,
   "id": "5b5e6716-b4b9-4893-8b37-25678f1d8305",
   "metadata": {},
   "outputs": [
    {
     "data": {
      "text/plain": [
       "['a', 'c', 'd', 'g']"
      ]
     },
     "execution_count": 220,
     "metadata": {},
     "output_type": "execute_result"
    }
   ],
   "source": [
    "mysortedlist"
   ]
  },
  {
   "cell_type": "raw",
   "id": "6f4556d7-3a4c-4a3d-b014-a6590c9ae338",
   "metadata": {},
   "source": [
    "numlist.sort()"
   ]
  },
  {
   "cell_type": "markdown",
   "id": "f29487ae-b8cc-42f3-a5fa-cfe59e95f8fd",
   "metadata": {},
   "source": [
    "numlist"
   ]
  },
  {
   "cell_type": "code",
   "execution_count": 223,
   "id": "a832ac5f-5f36-4dc9-944f-1190e1f51d02",
   "metadata": {},
   "outputs": [],
   "source": [
    "numlist.sort()"
   ]
  },
  {
   "cell_type": "code",
   "execution_count": 225,
   "id": "be147337-1352-401b-8f0b-72a5141c939d",
   "metadata": {},
   "outputs": [
    {
     "data": {
      "text/plain": [
       "[1, 2, 3, 4, 8]"
      ]
     },
     "execution_count": 225,
     "metadata": {},
     "output_type": "execute_result"
    }
   ],
   "source": [
    "numlist"
   ]
  },
  {
   "cell_type": "code",
   "execution_count": 227,
   "id": "f43aa11a-c88a-4477-a397-fa3c23d161fc",
   "metadata": {},
   "outputs": [],
   "source": [
    "newnumlist=numlist"
   ]
  },
  {
   "cell_type": "code",
   "execution_count": 229,
   "id": "91db577c-9b80-404a-8de4-24ef3cb5df00",
   "metadata": {},
   "outputs": [
    {
     "data": {
      "text/plain": [
       "[1, 2, 3, 4, 8]"
      ]
     },
     "execution_count": 229,
     "metadata": {},
     "output_type": "execute_result"
    }
   ],
   "source": [
    "newnumlist"
   ]
  },
  {
   "cell_type": "code",
   "execution_count": 231,
   "id": "240d64bb-be59-4dc0-9a1a-ce6c10c819d5",
   "metadata": {},
   "outputs": [],
   "source": [
    "numlist.reverse()"
   ]
  },
  {
   "cell_type": "code",
   "execution_count": 233,
   "id": "2c4e50d2-6c2a-42e8-9419-16adda2cfe76",
   "metadata": {},
   "outputs": [
    {
     "data": {
      "text/plain": [
       "[8, 4, 3, 2, 1]"
      ]
     },
     "execution_count": 233,
     "metadata": {},
     "output_type": "execute_result"
    }
   ],
   "source": [
    "numlist"
   ]
  },
  {
   "cell_type": "code",
   "execution_count": 237,
   "id": "44768bb0-e928-4c5c-8e92-b025308ed358",
   "metadata": {},
   "outputs": [],
   "source": [
    "dictlist={\"key1\":\"value1\",\"key2\":\"value2\"}"
   ]
  },
  {
   "cell_type": "code",
   "execution_count": 239,
   "id": "6d975b82-46cb-445a-9ca7-70d3932207af",
   "metadata": {},
   "outputs": [
    {
     "data": {
      "text/plain": [
       "{'key1': 'value1', 'key2': 'value2'}"
      ]
     },
     "execution_count": 239,
     "metadata": {},
     "output_type": "execute_result"
    }
   ],
   "source": [
    "dictlist"
   ]
  },
  {
   "cell_type": "code",
   "execution_count": 241,
   "id": "53fa0f9c-8eb6-4e16-a755-79f01348ae35",
   "metadata": {},
   "outputs": [],
   "source": [
    "dictpricelist={\"renu1\":100,\"renu2\":10,\"renu3\":1000}"
   ]
  },
  {
   "cell_type": "code",
   "execution_count": 243,
   "id": "37c81020-1686-4fe8-8c5f-d1e254d2255f",
   "metadata": {},
   "outputs": [
    {
     "data": {
      "text/plain": [
       "{'renu1': 100, 'renu2': 10, 'renu3': 1000}"
      ]
     },
     "execution_count": 243,
     "metadata": {},
     "output_type": "execute_result"
    }
   ],
   "source": [
    "dictpricelist"
   ]
  },
  {
   "cell_type": "code",
   "execution_count": 249,
   "id": "495f6680-f544-463d-b8b4-c1b15a457333",
   "metadata": {},
   "outputs": [
    {
     "data": {
      "text/plain": [
       "100"
      ]
     },
     "execution_count": 249,
     "metadata": {},
     "output_type": "execute_result"
    }
   ],
   "source": [
    "dictpricelist['renu1']"
   ]
  },
  {
   "cell_type": "code",
   "execution_count": 251,
   "id": "d91eb08e-094e-4e52-8356-f6c97c5d132e",
   "metadata": {},
   "outputs": [],
   "source": [
    "dict1list={\"key1\":100,\"key2\":[1,2,3],\"key3\":{\"insidekey\":20}}"
   ]
  },
  {
   "cell_type": "code",
   "execution_count": 253,
   "id": "4d54e00a-772d-4a0d-bc96-2a5d61134344",
   "metadata": {},
   "outputs": [
    {
     "data": {
      "text/plain": [
       "{'key1': 100, 'key2': [1, 2, 3], 'key3': {'insidekey': 20}}"
      ]
     },
     "execution_count": 253,
     "metadata": {},
     "output_type": "execute_result"
    }
   ],
   "source": [
    "dict1list"
   ]
  },
  {
   "cell_type": "code",
   "execution_count": 255,
   "id": "69678715-cd90-4073-ace9-b45f4bdd6e41",
   "metadata": {},
   "outputs": [
    {
     "data": {
      "text/plain": [
       "[1, 2, 3]"
      ]
     },
     "execution_count": 255,
     "metadata": {},
     "output_type": "execute_result"
    }
   ],
   "source": [
    "dict1list[\"key2\"]"
   ]
  },
  {
   "cell_type": "code",
   "execution_count": 257,
   "id": "112f0888-68e8-4e8c-afd1-6f6117760ec0",
   "metadata": {},
   "outputs": [],
   "source": [
    "dictnewlist=dict1list[\"key2\"]"
   ]
  },
  {
   "cell_type": "code",
   "execution_count": 259,
   "id": "406c1523-295d-4d08-aff1-50b8c80871a0",
   "metadata": {},
   "outputs": [
    {
     "data": {
      "text/plain": [
       "[1, 2, 3]"
      ]
     },
     "execution_count": 259,
     "metadata": {},
     "output_type": "execute_result"
    }
   ],
   "source": [
    "dictnewlist"
   ]
  },
  {
   "cell_type": "code",
   "execution_count": 261,
   "id": "862f73ea-b93c-41dc-a58f-c6236bb8297c",
   "metadata": {},
   "outputs": [
    {
     "data": {
      "text/plain": [
       "3"
      ]
     },
     "execution_count": 261,
     "metadata": {},
     "output_type": "execute_result"
    }
   ],
   "source": [
    "dictnewlist[2]"
   ]
  },
  {
   "cell_type": "code",
   "execution_count": 263,
   "id": "d470c0d6-1726-4d15-8c18-d629e3f8a575",
   "metadata": {},
   "outputs": [
    {
     "data": {
      "text/plain": [
       "{'insidekey': 20}"
      ]
     },
     "execution_count": 263,
     "metadata": {},
     "output_type": "execute_result"
    }
   ],
   "source": [
    "dict1list[\"key3\"]"
   ]
  },
  {
   "cell_type": "code",
   "execution_count": 267,
   "id": "67065336-210f-4ef9-b325-960cc8efc3c7",
   "metadata": {},
   "outputs": [
    {
     "data": {
      "text/plain": [
       "20"
      ]
     },
     "execution_count": 267,
     "metadata": {},
     "output_type": "execute_result"
    }
   ],
   "source": [
    "dict1list[\"key3\"][\"insidekey\"]"
   ]
  },
  {
   "cell_type": "code",
   "execution_count": 269,
   "id": "52e20ef8-057a-4b4e-a518-dab841d07ddf",
   "metadata": {},
   "outputs": [
    {
     "data": {
      "text/plain": [
       "dict_keys(['key1', 'key2'])"
      ]
     },
     "execution_count": 269,
     "metadata": {},
     "output_type": "execute_result"
    }
   ],
   "source": [
    "dictlist.keys()"
   ]
  },
  {
   "cell_type": "code",
   "execution_count": 271,
   "id": "73e09101-dbd2-4d5a-9238-639ae871fe61",
   "metadata": {},
   "outputs": [
    {
     "data": {
      "text/plain": [
       "dict_values(['value1', 'value2'])"
      ]
     },
     "execution_count": 271,
     "metadata": {},
     "output_type": "execute_result"
    }
   ],
   "source": [
    "dictlist.values()"
   ]
  },
  {
   "cell_type": "code",
   "execution_count": 273,
   "id": "774451a3-cd92-48a6-adb4-9ee208399e19",
   "metadata": {},
   "outputs": [
    {
     "data": {
      "text/plain": [
       "dict_items([('key1', 'value1'), ('key2', 'value2')])"
      ]
     },
     "execution_count": 273,
     "metadata": {},
     "output_type": "execute_result"
    }
   ],
   "source": [
    "dictlist.items()"
   ]
  },
  {
   "cell_type": "code",
   "execution_count": 275,
   "id": "b8968b51-d8be-4268-8887-32692e5b357b",
   "metadata": {},
   "outputs": [],
   "source": [
    "#tuples"
   ]
  },
  {
   "cell_type": "code",
   "execution_count": 277,
   "id": "96ef8986-76bf-49fc-b63a-151db9c13f47",
   "metadata": {},
   "outputs": [],
   "source": [
    "tuple=(1,2,3,2,4,2)"
   ]
  },
  {
   "cell_type": "code",
   "execution_count": 317,
   "id": "722c194d-5947-493d-bc24-d3dffab465fa",
   "metadata": {},
   "outputs": [
    {
     "data": {
      "text/plain": [
       "(1, 2, 3, 4)"
      ]
     },
     "execution_count": 317,
     "metadata": {},
     "output_type": "execute_result"
    }
   ],
   "source": [
    "tuple.count(2)\n",
    "tuple"
   ]
  },
  {
   "cell_type": "code",
   "execution_count": 319,
   "id": "8c15359a-7136-4b28-8346-045b48fa0da7",
   "metadata": {},
   "outputs": [
    {
     "data": {
      "text/plain": [
       "(1, 2, 3, 4)"
      ]
     },
     "execution_count": 319,
     "metadata": {},
     "output_type": "execute_result"
    }
   ],
   "source": [
    "tuple.index(4)\n",
    "tuple"
   ]
  },
  {
   "cell_type": "code",
   "execution_count": 291,
   "id": "7237414e-5433-4f94-b150-1768ae725f64",
   "metadata": {},
   "outputs": [],
   "source": [
    "#sets"
   ]
  },
  {
   "cell_type": "code",
   "execution_count": 293,
   "id": "9aa59c72-6a3c-42d9-ab6f-c0bedbd8ddf4",
   "metadata": {},
   "outputs": [],
   "source": [
    "myset=set()"
   ]
  },
  {
   "cell_type": "code",
   "execution_count": 295,
   "id": "16207bb9-5ac4-4112-83a8-62390df47fdf",
   "metadata": {},
   "outputs": [
    {
     "data": {
      "text/plain": [
       "set()"
      ]
     },
     "execution_count": 295,
     "metadata": {},
     "output_type": "execute_result"
    }
   ],
   "source": [
    "myset"
   ]
  },
  {
   "cell_type": "code",
   "execution_count": 301,
   "id": "edb4f84f-6f28-47f8-bc13-72edbcb1a270",
   "metadata": {},
   "outputs": [],
   "source": [
    "myset.add(1)"
   ]
  },
  {
   "cell_type": "code",
   "execution_count": 303,
   "id": "26725aa3-b7db-4303-8d27-289a04c9e8fd",
   "metadata": {},
   "outputs": [
    {
     "data": {
      "text/plain": [
       "{1}"
      ]
     },
     "execution_count": 303,
     "metadata": {},
     "output_type": "execute_result"
    }
   ],
   "source": [
    "myset"
   ]
  },
  {
   "cell_type": "code",
   "execution_count": 305,
   "id": "031ce126-efe1-4e93-af93-8666d8136ea4",
   "metadata": {},
   "outputs": [],
   "source": [
    "myset.add(2)"
   ]
  },
  {
   "cell_type": "code",
   "execution_count": 307,
   "id": "0186774e-dcfd-4e2c-aa48-9a05a282c69f",
   "metadata": {},
   "outputs": [
    {
     "data": {
      "text/plain": [
       "{1, 2}"
      ]
     },
     "execution_count": 307,
     "metadata": {},
     "output_type": "execute_result"
    }
   ],
   "source": [
    "myset"
   ]
  },
  {
   "cell_type": "code",
   "execution_count": 309,
   "id": "3789974a-bdd2-4b34-bfd6-a08db3f3fc84",
   "metadata": {},
   "outputs": [],
   "source": [
    "mylist=[1,1,1,1,2,2,2,2,2,3,3,3,3]"
   ]
  },
  {
   "cell_type": "code",
   "execution_count": 315,
   "id": "1515119a-23ca-4bdd-afea-cb5652f58b34",
   "metadata": {},
   "outputs": [
    {
     "data": {
      "text/plain": [
       "{'one', 'three', 'two'}"
      ]
     },
     "execution_count": 315,
     "metadata": {},
     "output_type": "execute_result"
    }
   ],
   "source": [
    "set(mylist)"
   ]
  },
  {
   "cell_type": "code",
   "execution_count": 5,
   "id": "66dd8862-1488-48b8-a1a4-39227e8642c8",
   "metadata": {},
   "outputs": [
    {
     "name": "stdin",
     "output_type": "stream",
     "text": [
      "enter yur transport request:  aeroplane\n"
     ]
    },
    {
     "name": "stdout",
     "output_type": "stream",
     "text": [
      "please select valid transport\n"
     ]
    }
   ],
   "source": [
    "request=input('enter yur transport request: ')\n",
    "if request==\"bus\":\n",
    "    print(\"bus cost 50rs\")\n",
    "elif request==\"auto\":\n",
    "    print(\"auto cost 15rs\")\n",
    "elif request==\"train\":\n",
    "    print(\"train cost 70rs\")\n",
    "else:\n",
    "    print(\"please select valid transport\")"
   ]
  },
  {
   "cell_type": "code",
   "execution_count": null,
   "id": "8eca0db2-5377-48ad-b9d8-f6b4bce41a95",
   "metadata": {},
   "outputs": [],
   "source": []
  },
  {
   "cell_type": "code",
   "execution_count": 7,
   "id": "8760fa5b-b7a4-49af-99a5-fcfc91fbe628",
   "metadata": {},
   "outputs": [
    {
     "name": "stdout",
     "output_type": "stream",
     "text": [
      "auto cost 15rs\n",
      "please select valid transport\n"
     ]
    }
   ],
   "source": [
    "request=\"auto\"\n",
    "if request==\"bus\":\n",
    "    print(\"bus cost 50rs\")\n",
    "if request==\"auto\":\n",
    "    print(\"auto cost 15rs\n",
    "if request==\"train\":\n",
    "    print(\"train cost 70rs\")\n",
    "else:\n",
    "    print(\"please select valid transport\")\n",
    "    \n",
    "    "
   ]
  },
  {
   "cell_type": "code",
   "execution_count": 9,
   "id": "7636c417-627b-4243-baff-efd70989ce6f",
   "metadata": {},
   "outputs": [
    {
     "name": "stdout",
     "output_type": "stream",
     "text": [
      "2\n",
      "3\n",
      "4\n",
      "5\n"
     ]
    }
   ],
   "source": [
    "l1=[1,2,3,4]\n",
    "for x in l1:\n",
    "    a=x+1\n",
    "    print(a)"
   ]
  },
  {
   "cell_type": "code",
   "execution_count": 11,
   "id": "571c6a37-0b8e-4f34-b511-553515b0ed3b",
   "metadata": {},
   "outputs": [
    {
     "name": "stdout",
     "output_type": "stream",
     "text": [
      "enter: 10\n",
      "enter:10\n"
     ]
    }
   ],
   "source": [
    "num=10\n",
    "print('enter:', num)\n",
    "print(f'enter:{num}')"
   ]
  },
  {
   "cell_type": "code",
   "execution_count": 29,
   "id": "489dcba2-b6fa-431c-b74e-56f3d5287af1",
   "metadata": {},
   "outputs": [
    {
     "name": "stdout",
     "output_type": "stream",
     "text": [
      "x is equal to y.\n"
     ]
    }
   ],
   "source": [
    "x = y = 3 \n",
    "if x < y: \n",
    "    print(\"x is smaller than y.\")\n",
    "elif x == y:\n",
    "    print(\"x is equal to y.\")\n",
    "else:\n",
    "    print(\"x is greater than y.\")\n",
    "         "
   ]
  },
  {
   "cell_type": "code",
   "execution_count": 39,
   "id": "92bb6650-1eb3-4beb-a186-f2fdb1f4c793",
   "metadata": {},
   "outputs": [
    {
     "name": "stdout",
     "output_type": "stream",
     "text": [
      "x is equal to 10\n"
     ]
    }
   ],
   "source": [
    "x=10\n",
    "if x > 20:\n",
    "    print(\"x is greater than 20\")\n",
    "elif x < 5:\n",
    "    print(\"x is less than 20\")\n",
    "else :\n",
    "    print(\"x is equal to 10\")"
   ]
  },
  {
   "cell_type": "code",
   "execution_count": 47,
   "id": "9256bfda-9d77-4159-9594-4aff262bd86b",
   "metadata": {},
   "outputs": [
    {
     "name": "stdout",
     "output_type": "stream",
     "text": [
      "Grade: F\n"
     ]
    }
   ],
   "source": [
    "score = 85\n",
    "if score >= 90:\n",
    "    print(\"Grade: A\")\n",
    "elif score >= 80:\n",
    "    print(\"Grade: B\")\n",
    "elif score >= 70:\n",
    "    print(\"Grade: C\")\n",
    "elif score >= 60:\n",
    "    print(\"Grade: D\")\n",
    "else:\n",
    "    print(\"Grade: F\")\n"
   ]
  },
  {
   "cell_type": "code",
   "execution_count": 53,
   "id": "0e20626b-dfd0-4623-a5cb-ed3c8dc442a0",
   "metadata": {},
   "outputs": [
    {
     "name": "stdout",
     "output_type": "stream",
     "text": [
      "It's warm. No need for a jacket.\n",
      "Have a great day!\n"
     ]
    }
   ],
   "source": [
    "temperature = 18  # Example temperature in Celsius\n",
    "if temperature <= 5:\n",
    "\tprint(\"It's very cold. Wear a heavy jacket.\")\n",
    "elif temperature <= 15:\n",
    "\tprint(\"It's cold. Wear a jacket.\")\n",
    "elif temperature <= 25:\n",
    "\tprint(\"It's warm. No need for a jacket.\")\n",
    "else:\n",
    "\tprint(\"It's hot. Stay cool!\")\n",
    "print(\"Have a great day!\")   # This line is not part of if else statements\n"
   ]
  },
  {
   "cell_type": "code",
   "execution_count": 59,
   "id": "d02b18bd-edbf-4546-bf11-ebd5634c9ccb",
   "metadata": {},
   "outputs": [
    {
     "name": "stdout",
     "output_type": "stream",
     "text": [
      "z is even\n"
     ]
    }
   ],
   "source": [
    "z=4\n",
    "if z % 2 == 0:\n",
    "    print(\"z is even\")    "
   ]
  },
  {
   "cell_type": "code",
   "execution_count": 69,
   "id": "b5155509-a87b-46de-bf3d-141490f23440",
   "metadata": {},
   "outputs": [
    {
     "name": "stdout",
     "output_type": "stream",
     "text": [
      "z is divisible by 2\n"
     ]
    }
   ],
   "source": [
    "z=2\n",
    "if z%3==0:\n",
    "   print(\"z is divisible by 3\")\n",
    "elif z%2==0:\n",
    "   print(\"z is divisible by 2\")\n",
    "else:\n",
    "    print(\"z is neither divisible by nor 2 and 3\")"
   ]
  },
  {
   "cell_type": "code",
   "execution_count": null,
   "id": "fffe39b9-125d-4968-8890-485177801e5e",
   "metadata": {},
   "outputs": [],
   "source": [
    "In the below example, you define two variables room and area. You then construct if-elif-else and if-else conditions each for room and area, respectively.\n",
    "\n",
    "In the first condition, you check if you are looking in the kitchen, elif you are looking in the bedroom, else you are looking around elsewhere. Depending on the value of the room variable, the satisfied condition is executed.\n",
    "\n",
    "Similarly, for the area variable, you write an if and else condition and check whether the area is greater than 15 or not.\n",
    "\n",
    "\n"
   ]
  },
  {
   "cell_type": "code",
   "execution_count": 76,
   "id": "98a989a3-c46c-4124-829b-d1d44e0d4e24",
   "metadata": {},
   "outputs": [
    {
     "name": "stdout",
     "output_type": "stream",
     "text": [
      "you are looking in the bedroom\n",
      "pretty cool\n"
     ]
    }
   ],
   "source": [
    "room=\"bed\"\n",
    "area=15\n",
    "\n",
    "if room==\"kit\":\n",
    "   print(\"you are looking in the kitchen\")\n",
    "elif room==\"bed\":\n",
    "   print(\"you are looking in the bedroom\")\n",
    "else :\n",
    "    print(\"you are looking around elsewhere.\") \n",
    "\n",
    "if area>15:\n",
    "    print(\"big small\")\n",
    "else:\n",
    "    print(\"pretty cool\")"
   ]
  },
  {
   "cell_type": "code",
   "execution_count": null,
   "id": "90319f72-f1a8-482c-8201-f97a130a3003",
   "metadata": {},
   "outputs": [],
   "source": [
    "If-elif-else - Assign 0 to z. If x is bigger than 0, print \"x is a positive number\". Else if x is zero, print \"x is 0\". Else, print \"x is a negative number\"."
   ]
  },
  {
   "cell_type": "code",
   "execution_count": 367,
   "id": "6119ea13-0193-4983-89a5-d450098a23f0",
   "metadata": {},
   "outputs": [
    {
     "name": "stdout",
     "output_type": "stream",
     "text": [
      "x is a positive number\n"
     ]
    }
   ],
   "source": [
    "\n",
    "if x>0:\n",
    "    print(\"x is a positive number\")\n",
    "elif x==0:\n",
    "    print( \"x is 0\")\n",
    "else:\n",
    "    print( \"x is a negative number\")"
   ]
  },
  {
   "cell_type": "code",
   "execution_count": 90,
   "id": "d9e366ef-680e-423c-8e6f-e7071a6bb7f5",
   "metadata": {},
   "outputs": [
    {
     "name": "stdin",
     "output_type": "stream",
     "text": [
      "Enter your age:  18\n"
     ]
    },
    {
     "name": "stdout",
     "output_type": "stream",
     "text": [
      "You are an adult.\n"
     ]
    }
   ],
   "source": [
    "# Get input from the user\n",
    "age = int(input(\"Enter your age: \"))\n",
    "\n",
    "# Use if, elif, else statements\n",
    "if age < 18:\n",
    "    print(\"You are a minor.\")\n",
    "elif age >= 18 and age < 65:\n",
    "    print(\"You are an adult.\")\n",
    "else:\n",
    "    print(\"You are a senior citizen.\")"
   ]
  },
  {
   "cell_type": "code",
   "execution_count": null,
   "id": "fefd3149-f4ee-4e46-8ac9-ed9af0f7626a",
   "metadata": {},
   "outputs": [],
   "source": [
    "Task: Check if a number is positive, negative, or zero.\n"
   ]
  },
  {
   "cell_type": "code",
   "execution_count": 121,
   "id": "daa9a314-e2ef-41c6-9eb8-0680d7bd3ac2",
   "metadata": {},
   "outputs": [
    {
     "name": "stdin",
     "output_type": "stream",
     "text": [
      "enter a number:  0\n"
     ]
    },
    {
     "name": "stdout",
     "output_type": "stream",
     "text": [
      "number is zero\n"
     ]
    }
   ],
   "source": [
    "x=int(input(\"enter a number: \"))\n",
    "if x>0:\n",
    "    print(\"number is positive\")\n",
    "elif x<0:\n",
    "    print(\"number is negative\")\n",
    "else:\n",
    "    print(\"number is zero\")"
   ]
  },
  {
   "cell_type": "code",
   "execution_count": null,
   "id": "6401cf33-0bd7-4c18-bdc0-9a38d574032d",
   "metadata": {},
   "outputs": [],
   "source": [
    "Determine if a student passed or failed based on a score."
   ]
  },
  {
   "cell_type": "code",
   "execution_count": 129,
   "id": "4c86901c-9f73-4658-ac7e-eed2560bff71",
   "metadata": {},
   "outputs": [
    {
     "name": "stdout",
     "output_type": "stream",
     "text": [
      "passed\n"
     ]
    }
   ],
   "source": [
    "x=35\n",
    "if x<20:\n",
    "    print(\"failed\")\n",
    "elif x>20:\n",
    "    print(\"passed\")\n",
    "else: \n",
    "    print(\"equal\")"
   ]
  },
  {
   "cell_type": "code",
   "execution_count": 137,
   "id": "63579da6-5bb2-4b21-8746-5ed522ab07ee",
   "metadata": {},
   "outputs": [
    {
     "name": "stdin",
     "output_type": "stream",
     "text": [
      "enter:  20\n"
     ]
    },
    {
     "name": "stdout",
     "output_type": "stream",
     "text": [
      "equal\n"
     ]
    }
   ],
   "source": [
    "x=int(input(\"enter: \"))\n",
    "if x<20:\n",
    "    print(\"failed\")\n",
    "elif x>20:\n",
    "    print(\"passed\")\n",
    "else: \n",
    "    print(\"equal\")"
   ]
  },
  {
   "cell_type": "code",
   "execution_count": null,
   "id": "4f65f5ab-2eb5-42c6-a9fc-0598af13589a",
   "metadata": {},
   "outputs": [],
   "source": [
    "Task: Check the grade level of a student.\n"
   ]
  },
  {
   "cell_type": "code",
   "execution_count": 143,
   "id": "8d7de884-d9b8-4407-930f-ed1f2d9350a6",
   "metadata": {},
   "outputs": [
    {
     "name": "stdin",
     "output_type": "stream",
     "text": [
      "enter:  3\n"
     ]
    },
    {
     "name": "stdout",
     "output_type": "stream",
     "text": [
      "secondgrade\n"
     ]
    }
   ],
   "source": [
    "grade=int(input(\"enter: \"))\n",
    "if grade==1:\n",
    "    print(\"kindergarden\")\n",
    "elif grade==2:\n",
    "    print(\"firstgrade\")\n",
    "elif grade==3:\n",
    "    print(\"secondgrade\")\n",
    "elif grade==4:\n",
    "    print(\"thirdgrade\")\n",
    "else:\n",
    "    print(\"no valid grade\")"
   ]
  },
  {
   "cell_type": "code",
   "execution_count": 145,
   "id": "333fd667-2f4c-4fb7-ac3b-102dc79127d8",
   "metadata": {},
   "outputs": [],
   "source": [
    "#for loop"
   ]
  },
  {
   "cell_type": "code",
   "execution_count": 147,
   "id": "f9e37de7-16c4-403e-905d-9951f14a2200",
   "metadata": {},
   "outputs": [
    {
     "name": "stdout",
     "output_type": "stream",
     "text": [
      "Swift\n",
      "Python\n",
      "Go\n"
     ]
    }
   ],
   "source": [
    "languages = ['Swift', 'Python', 'Go']\n",
    "for x in languages:\n",
    "    print(x)"
   ]
  },
  {
   "cell_type": "code",
   "execution_count": 151,
   "id": "b6b83a82-ac99-4512-a134-61d4a1fa2b50",
   "metadata": {},
   "outputs": [
    {
     "name": "stdout",
     "output_type": "stream",
     "text": [
      "Swift\n",
      "------\n",
      "Python\n",
      "------\n",
      "Go\n",
      "------\n"
     ]
    }
   ],
   "source": [
    "\n",
    "languages = ['Swift', 'Python', 'Go']\n",
    "for x in languages:\n",
    "    print(x)\n",
    "    print('------')\n",
    "    "
   ]
  },
  {
   "cell_type": "code",
   "execution_count": 153,
   "id": "7a8b15b2-5384-4c37-be53-ec35c13d9f73",
   "metadata": {},
   "outputs": [
    {
     "name": "stdout",
     "output_type": "stream",
     "text": [
      "p\n",
      "y\n",
      "t\n",
      "h\n",
      "o\n",
      "n\n"
     ]
    }
   ],
   "source": [
    "lang='python'\n",
    "for x in lang:\n",
    "    print(x)"
   ]
  },
  {
   "cell_type": "code",
   "execution_count": 1,
   "id": "9e53b7e5-b24c-49c1-99f2-9946501f577a",
   "metadata": {},
   "outputs": [],
   "source": [
    "#data types in python"
   ]
  },
  {
   "cell_type": "code",
   "execution_count": null,
   "id": "17532d5b-7f8b-4239-9bf8-ff4dfe20b34e",
   "metadata": {},
   "outputs": [],
   "source": [
    "Integer(int)(whole number 1,2,3,4,5)\n",
    "Float(float)(numbers with decimal poin 2.5,34.6,20.34)\n",
    "string(str)(ordered sequence of characters\"jphn\",\"janny\",\"sam\",\"200.3\")\n",
    "List(list)(ordered sequence of objects [10,\"john\",20.45]\n",
    "Tuples(tup)(ordered immutabale sequence of objects (10,\"hello\",300.45))\n",
    "Sets (set)(unordered collection of unique objects{\"a\"'\"c\"})\n",
    "Dictionaries(dict)(unordered key value pairs {\"key1\":\"value1\",\"key2\":\"value2\"})\n",
    "Boolean(bool)(True or False)\n",
    "                                                  "
   ]
  },
  {
   "cell_type": "code",
   "execution_count": 13,
   "id": "0bb6aaec-82eb-4467-bbdc-dd2e15103e20",
   "metadata": {},
   "outputs": [
    {
     "name": "stdout",
     "output_type": "stream",
     "text": [
      "name : John\n",
      "age : 30\n",
      "city : New York\n"
     ]
    }
   ],
   "source": [
    "person = {\"name\": \"John\", \"age\": 30, \"city\": \"New York\"}\n",
    "for key, value in person.items():\n",
    "    print(key,':',value)\n",
    "\n"
   ]
  },
  {
   "cell_type": "code",
   "execution_count": 15,
   "id": "77fad730-f1d6-4d07-855d-955f6eb641e4",
   "metadata": {},
   "outputs": [
    {
     "name": "stdout",
     "output_type": "stream",
     "text": [
      "1\n",
      "2\n",
      "3\n",
      "4\n",
      "5\n"
     ]
    }
   ],
   "source": [
    "list=[1,2,3,4,5]\n",
    "for x in list:\n",
    "    print(x)"
   ]
  },
  {
   "cell_type": "code",
   "execution_count": 23,
   "id": "5b09b593-90e6-4beb-a72e-27897b50db74",
   "metadata": {},
   "outputs": [
    {
     "name": "stdout",
     "output_type": "stream",
     "text": [
      "hello\n",
      "hi\n",
      "fine\n"
     ]
    }
   ],
   "source": [
    "list=['hello','hi','fine']\n",
    "for x in list:\n",
    "    print(x)"
   ]
  },
  {
   "cell_type": "code",
   "execution_count": 21,
   "id": "86912b68-627f-49da-94c3-06806abb1bc2",
   "metadata": {},
   "outputs": [
    {
     "name": "stdout",
     "output_type": "stream",
     "text": [
      "1\n",
      "2\n",
      "3\n",
      "4\n",
      "5\n"
     ]
    }
   ],
   "source": [
    "for x in range(1,6):\n",
    "   print(x)"
   ]
  },
  {
   "cell_type": "code",
   "execution_count": 25,
   "id": "e4432f39-17c4-4072-b874-e1873c3b0648",
   "metadata": {},
   "outputs": [
    {
     "name": "stdout",
     "output_type": "stream",
     "text": [
      "1\n",
      "2\n",
      "3\n",
      "4\n"
     ]
    }
   ],
   "source": [
    "tuple=(1,2,3,4)\n",
    "for x in tuple:\n",
    "    print(x)"
   ]
  },
  {
   "cell_type": "code",
   "execution_count": 43,
   "id": "098e67f3-812b-42ba-9e7e-fd325ca75160",
   "metadata": {},
   "outputs": [
    {
     "name": "stdout",
     "output_type": "stream",
     "text": [
      "key1 : value1\n",
      "key2 : value\n"
     ]
    }
   ],
   "source": [
    "dict={\"key1\":\"value1\",\"key2\":\"value\"}\n",
    "for x,y in dict.items():\n",
    "    print(x,':',y)"
   ]
  },
  {
   "cell_type": "markdown",
   "id": "4eb62e89-ae2b-42a1-b32e-96682068ffc1",
   "metadata": {},
   "source": [
    " Print the first 10 natural numbers using for loop.\n"
   ]
  },
  {
   "cell_type": "code",
   "execution_count": 45,
   "id": "01422ff5-d376-4252-9aaa-353e83bc2c9e",
   "metadata": {},
   "outputs": [
    {
     "name": "stdout",
     "output_type": "stream",
     "text": [
      "1\n",
      "2\n",
      "3\n",
      "4\n",
      "5\n",
      "6\n",
      "7\n",
      "8\n",
      "9\n",
      "10\n"
     ]
    }
   ],
   "source": [
    "for x in range(1,11):\n",
    "    print(x)"
   ]
  },
  {
   "cell_type": "code",
   "execution_count": null,
   "id": "74d2011a-666b-4f42-95f1-51ce350148b9",
   "metadata": {},
   "outputs": [],
   "source": [
    " Python program to print all the even numbers within the given range.\n"
   ]
  },
  {
   "cell_type": "code",
   "execution_count": 49,
   "id": "db27b75a-ec55-44e7-b0d4-1e667ca5789d",
   "metadata": {},
   "outputs": [
    {
     "name": "stdout",
     "output_type": "stream",
     "text": [
      "0\n",
      "2\n",
      "4\n",
      "6\n",
      "8\n"
     ]
    }
   ],
   "source": [
    "givenrange=10\n",
    "for x in range(givenrange):\n",
    "    if x%2==0:\n",
    "        print(x)"
   ]
  },
  {
   "cell_type": "code",
   "execution_count": null,
   "id": "d28ec721-6907-4074-bae1-97da4d230897",
   "metadata": {},
   "outputs": [],
   "source": [
    "Python program to calculate the sum of all numbers from 1 to a given number.\n"
   ]
  },
  {
   "cell_type": "code",
   "execution_count": 95,
   "id": "e3515a16-6fd3-4afe-bd7f-a4cc43528fd7",
   "metadata": {},
   "outputs": [
    {
     "name": "stdout",
     "output_type": "stream",
     "text": [
      "1\n",
      "3\n",
      "6\n",
      "10\n",
      "15\n",
      "21\n",
      "28\n",
      "36\n",
      "45\n",
      "55\n"
     ]
    }
   ],
   "source": [
    "num=10\n",
    "sum=0\n",
    "for x in range(1,num+1):\n",
    "  sum+=x\n",
    "  print(sum)"
   ]
  },
  {
   "cell_type": "code",
   "execution_count": 93,
   "id": "0cfeef53-4c52-4a90-abd6-3a6c1b9c286a",
   "metadata": {},
   "outputs": [
    {
     "name": "stdout",
     "output_type": "stream",
     "text": [
      "55\n"
     ]
    }
   ],
   "source": [
    "\n",
    "given_number = 10\n",
    " \n",
    "sum = 0\n",
    " \n",
    "for i in range(1,given_number+1):\n",
    "        sum+=i\n",
    " \n",
    "print(sum)"
   ]
  },
  {
   "cell_type": "code",
   "execution_count": null,
   "id": "d488f0cf-ce59-4e47-8359-4249fca5e0f9",
   "metadata": {},
   "outputs": [],
   "source": [
    "given=10\n",
    "for x in range(given):"
   ]
  },
  {
   "cell_type": "code",
   "execution_count": null,
   "id": "e14aac59-fbbc-43c0-a926-5c9a0146f040",
   "metadata": {},
   "outputs": [],
   "source": []
  },
  {
   "cell_type": "code",
   "execution_count": 1,
   "id": "d9e964d4-a25c-464c-ab6d-2306e00b3895",
   "metadata": {},
   "outputs": [
    {
     "name": "stdout",
     "output_type": "stream",
     "text": [
      "a\n",
      "e\n",
      "i\n",
      "o\n",
      "u\n"
     ]
    }
   ],
   "source": [
    "alphalist =[\"a\",\"b\",\"c\",\"d\",\"e\",\"f\",\"g\",\"h\",\"i\",\"j\",\"k\",\"l\",\"m\",\"n\",\"o\",\"p\",\"q\",\"r\",\"s\",\"t\",\"u\",\"v\",\"w\",\"x\",\"y\",\"z\"]\n",
    "vowels=[\"a\",\"e\",\"i\",\"o\",\"u\"]\n",
    "for x in alphalist:\n",
    "    if x in vowels:\n",
    "        print(x)"
   ]
  },
  {
   "cell_type": "code",
   "execution_count": 171,
   "id": "5fe08938-3449-406a-8bb3-f8dd9b226b89",
   "metadata": {},
   "outputs": [
    {
     "name": "stdout",
     "output_type": "stream",
     "text": [
      "b\n",
      "c\n",
      "d\n",
      "f\n",
      "g\n",
      "h\n",
      "j\n",
      "k\n",
      "l\n",
      "m\n",
      "n\n",
      "p\n",
      "q\n",
      "r\n",
      "s\n",
      "t\n",
      "v\n",
      "w\n",
      "x\n",
      "y\n",
      "z\n"
     ]
    }
   ],
   "source": [
    "alphalist =[\"a\",\"b\",\"c\",\"d\",\"e\",\"f\",\"g\",\"h\",\"i\",\"j\",\"k\",\"l\",\"m\",\"n\",\"o\",\"p\",\"q\",\"r\",\"s\",\"t\",\"u\",\"v\",\"w\",\"x\",\"y\",\"z\"]\n",
    "vowels=[\"a\",\"e\",\"i\",\"o\",\"u\"]\n",
    "for x in alphalist:\n",
    "    if x  not in vowels:\n",
    "             print(x)"
   ]
  },
  {
   "cell_type": "code",
   "execution_count": 177,
   "id": "16d49b61-8a31-4ce1-b3e2-d1bc8b6df97f",
   "metadata": {},
   "outputs": [],
   "source": [
    "def f1():\n",
    "    print(\"I am f1 function\")"
   ]
  },
  {
   "cell_type": "code",
   "execution_count": 181,
   "id": "c4c7a1b0-60f1-414b-a764-e6504ef0f8d7",
   "metadata": {},
   "outputs": [
    {
     "name": "stdout",
     "output_type": "stream",
     "text": [
      "I am f1 function\n"
     ]
    }
   ],
   "source": [
    "f1()"
   ]
  },
  {
   "cell_type": "code",
   "execution_count": 183,
   "id": "557e996c-b5f2-40c5-acdb-6fa248cc6d05",
   "metadata": {},
   "outputs": [
    {
     "name": "stdout",
     "output_type": "stream",
     "text": [
      "i am renu\n"
     ]
    }
   ],
   "source": [
    "def name():\n",
    "  print(\"i am renu\")\n",
    "name()"
   ]
  },
  {
   "cell_type": "code",
   "execution_count": 187,
   "id": "d4420e44-faae-418b-94e2-67b68028d6cd",
   "metadata": {},
   "outputs": [
    {
     "name": "stdout",
     "output_type": "stream",
     "text": [
      "Hello, Alice!\n",
      "Hello, john!\n",
      "Hello, Alu!\n"
     ]
    }
   ],
   "source": [
    "def greet_person(name):\n",
    "  print(f\"Hello, {name}!\")\n",
    "\n",
    "\n",
    "greet_person(\"Alice\")\n",
    "greet_person(\"john\")\n",
    "greet_person(\"Alu\")\n"
   ]
  },
  {
   "cell_type": "code",
   "execution_count": 189,
   "id": "1a86b9c0-7ae7-4b31-a6a1-5f74359e402e",
   "metadata": {},
   "outputs": [
    {
     "name": "stdout",
     "output_type": "stream",
     "text": [
      "Hello, Bob!\n",
      "Good morning, Charlie!\n"
     ]
    }
   ],
   "source": [
    "def greet_with_message(name, message=\"Hello\"):\n",
    "  print(f\"{message}, {name}!\")\n",
    "greet_with_message(\"Bob\")\n",
    "greet_with_message(\"Charlie\", \"Good morning\")"
   ]
  },
  {
   "cell_type": "code",
   "execution_count": 193,
   "id": "558442ec-ccd5-4ceb-b92e-6f66458e956e",
   "metadata": {},
   "outputs": [
    {
     "name": "stdout",
     "output_type": "stream",
     "text": [
      "say hello\n"
     ]
    }
   ],
   "source": [
    "def "
   ]
  },
  {
   "cell_type": "code",
   "execution_count": 215,
   "id": "16ef4c21-00e6-405b-82e4-30dbdc23bad1",
   "metadata": {},
   "outputs": [
    {
     "name": "stdout",
     "output_type": "stream",
     "text": [
      "namejanny\n"
     ]
    }
   ],
   "source": [
    "def gud(name):\n",
    "    print(f'name{name}')\n",
    "gud(\"janny\")"
   ]
  },
  {
   "cell_type": "code",
   "execution_count": 219,
   "id": "cf22fb42-93f2-46e1-a0b5-be1468f5170f",
   "metadata": {},
   "outputs": [
    {
     "name": "stdout",
     "output_type": "stream",
     "text": [
      "age10\n"
     ]
    }
   ],
   "source": [
    "def gud(a):\n",
    "    print(f'age{a}')\n",
    "gud(10)"
   ]
  },
  {
   "cell_type": "code",
   "execution_count": 247,
   "id": "52b05b8a-6bf5-435d-889d-6fac5650ce33",
   "metadata": {},
   "outputs": [
    {
     "name": "stdout",
     "output_type": "stream",
     "text": [
      "age10\n"
     ]
    }
   ],
   "source": [
    "def gud(a=10):\n",
    "    print(f'age{a}')\n",
    "gud()"
   ]
  },
  {
   "cell_type": "code",
   "execution_count": 253,
   "id": "007b25e1-d6d7-4024-9321-225d652c734e",
   "metadata": {},
   "outputs": [
    {
     "name": "stdout",
     "output_type": "stream",
     "text": [
      "age(10, 100, 20)\n"
     ]
    }
   ],
   "source": [
    "def gud(a=10,b=100,c=20):\n",
    "    print(f'age{a,b,c}')\n",
    "gud()"
   ]
  },
  {
   "cell_type": "code",
   "execution_count": 293,
   "id": "ad4e6c59-ac14-44db-9956-f4b278570644",
   "metadata": {},
   "outputs": [
    {
     "name": "stdout",
     "output_type": "stream",
     "text": [
      "before: <class 'str'>\n",
      "after: <class 'int'>\n",
      "sum 30\n",
      "finally: <class 'int'>\n"
     ]
    }
   ],
   "source": [
    "num_string='10'\n",
    "num_integer=20\n",
    "print('before:', type(num_string))\n",
    "num_string=int(num_string)\n",
    "print(\"after:\",type(num_string))\n",
    "new_integer=num_string+num_integer\n",
    "print(f'sum {new_integer}')\n",
    "print('finally:',type(new_integer))"
   ]
  },
  {
   "cell_type": "code",
   "execution_count": 329,
   "id": "e1067719-f6da-4aba-8ee8-d9cc3820d699",
   "metadata": {},
   "outputs": [
    {
     "name": "stdout",
     "output_type": "stream",
     "text": [
      "hello name\n"
     ]
    }
   ],
   "source": [
    "def myfunc():\n",
    "    print('hello name')\n",
    "myfunc()"
   ]
  },
  {
   "cell_type": "code",
   "execution_count": 337,
   "id": "6fcbe3d6-a591-40a9-9d04-9d32b25c3217",
   "metadata": {},
   "outputs": [
    {
     "name": "stdout",
     "output_type": "stream",
     "text": [
      "sum: 7\n"
     ]
    }
   ],
   "source": [
    "def gud(a,b):\n",
    "    sum=a+b\n",
    "    print(f'sum:',sum)\n",
    "gud(3,4)"
   ]
  },
  {
   "cell_type": "code",
   "execution_count": 339,
   "id": "8fb3062a-1993-45c1-973a-d8eee805e7c9",
   "metadata": {},
   "outputs": [
    {
     "name": "stdout",
     "output_type": "stream",
     "text": [
      "mul: 24\n"
     ]
    }
   ],
   "source": [
    "def gud(a,b,c):\n",
    "    mul=a*b*c\n",
    "    print(f'mul:',mul)\n",
    "gud(2,3,4)"
   ]
  },
  {
   "cell_type": "code",
   "execution_count": 349,
   "id": "0b375b63-b90a-4e0e-b1e5-b8167420b775",
   "metadata": {},
   "outputs": [
    {
     "name": "stdout",
     "output_type": "stream",
     "text": [
      "x:2\n",
      "y:3\n"
     ]
    }
   ],
   "source": [
    "x=3\n",
    "y=2\n",
    "temp=x\n",
    "x=y\n",
    "y=temp\n",
    "print(f'x:{x}')\n",
    "print(f'y:{y}')"
   ]
  },
  {
   "cell_type": "code",
   "execution_count": 355,
   "id": "3963cc83-333e-433e-b0c4-527239d7b2eb",
   "metadata": {},
   "outputs": [
    {
     "name": "stdout",
     "output_type": "stream",
     "text": [
      "x:25\n",
      "x:25\n"
     ]
    }
   ],
   "source": [
    "x=10\n",
    "y=25\n",
    "x=temp\n",
    "x=y\n",
    "temp=y\n",
    "print(f'x:{x}')\n",
    "print(f'x:{x}')"
   ]
  },
  {
   "cell_type": "code",
   "execution_count": 357,
   "id": "939f56e5-53e3-4447-a245-7aa399a3839c",
   "metadata": {},
   "outputs": [
    {
     "name": "stdout",
     "output_type": "stream",
     "text": [
      "x:6\n",
      "y:4\n"
     ]
    }
   ],
   "source": [
    "x=4\n",
    "y=6\n",
    "x,y=y,x\n",
    "print(f'x:{x}')\n",
    "print(f'y:{y}')"
   ]
  },
  {
   "cell_type": "code",
   "execution_count": 545,
   "id": "1dd048bf-cd15-4950-b6cd-3c12f2b2f8a8",
   "metadata": {},
   "outputs": [
    {
     "name": "stdout",
     "output_type": "stream",
     "text": [
      "its a prime\n"
     ]
    }
   ],
   "source": [
    "\n",
    "num=19\n",
    "for x in range(2,num):\n",
    "    if (num%x==0):\n",
    "        print('its not a prime')\n",
    "else:\n",
    "     print('its a prime')"
   ]
  },
  {
   "cell_type": "code",
   "execution_count": 509,
   "id": "62beb3b5-8973-4d7f-8410-4cbc34520184",
   "metadata": {},
   "outputs": [
    {
     "name": "stdout",
     "output_type": "stream",
     "text": [
      "29 is a prime number\n"
     ]
    }
   ],
   "source": [
    "def is_prime(num):\n",
    "    # Initialize a flag variable\n",
    "    flag = True\n",
    "\n",
    "    # Numbers less than 2 are not prime\n",
    "    if num < 2:\n",
    "        flag = False\n",
    "    else:\n",
    "        # Check for factors from 2 to num-1\n",
    "        for i in range(2, num):\n",
    "            if num % i == 0:\n",
    "                print(i)\n",
    "                flag = False\n",
    "                break\n",
    "\n",
    "    # Return the result based on the flag variable\n",
    "    return flag\n",
    "\n",
    "# Example usage\n",
    "number = 29\n",
    "if is_prime(number):\n",
    "    print(f\"{number} is a prime number\")\n",
    "else:\n",
    "    print(f\"{number} is not a prime number\")\n",
    "\n",
    "\n",
    "    \n",
    "   "
   ]
  },
  {
   "cell_type": "code",
   "execution_count": 9,
   "id": "fd100ec8-08c9-498e-bfe9-c9f1276e6e01",
   "metadata": {},
   "outputs": [
    {
     "ename": "TypeError",
     "evalue": "unsupported operand type(s) for %: 'list' and 'int'",
     "output_type": "error",
     "traceback": [
      "\u001b[0;31m---------------------------------------------------------------------------\u001b[0m",
      "\u001b[0;31mTypeError\u001b[0m                                 Traceback (most recent call last)",
      "Cell \u001b[0;32mIn[9], line 8\u001b[0m\n\u001b[1;32m      6\u001b[0m          \u001b[38;5;28mprint\u001b[39m(\u001b[38;5;124m'\u001b[39m\u001b[38;5;124mits a prime\u001b[39m\u001b[38;5;124m'\u001b[39m)\n\u001b[1;32m      7\u001b[0m num\u001b[38;5;241m=\u001b[39m[\u001b[38;5;241m1\u001b[39m,\u001b[38;5;241m2\u001b[39m,\u001b[38;5;241m3\u001b[39m,\u001b[38;5;241m4\u001b[39m,\u001b[38;5;241m5\u001b[39m,\u001b[38;5;241m6\u001b[39m,\u001b[38;5;241m7\u001b[39m,\u001b[38;5;241m8\u001b[39m,\u001b[38;5;241m9\u001b[39m,\u001b[38;5;241m10\u001b[39m]        \n\u001b[0;32m----> 8\u001b[0m gud(num)\n",
      "Cell \u001b[0;32mIn[9], line 3\u001b[0m, in \u001b[0;36mgud\u001b[0;34m(num)\u001b[0m\n\u001b[1;32m      1\u001b[0m \u001b[38;5;28;01mdef\u001b[39;00m \u001b[38;5;21mgud\u001b[39m(num):\n\u001b[1;32m      2\u001b[0m     \u001b[38;5;28;01mfor\u001b[39;00m x \u001b[38;5;129;01min\u001b[39;00m \u001b[38;5;28mrange\u001b[39m(\u001b[38;5;241m2\u001b[39m,\u001b[38;5;28mlen\u001b[39m(num)):\n\u001b[0;32m----> 3\u001b[0m         \u001b[38;5;28;01mif\u001b[39;00m (num\u001b[38;5;241m%\u001b[39mx\u001b[38;5;241m==\u001b[39m\u001b[38;5;241m0\u001b[39m):\n\u001b[1;32m      4\u001b[0m             \u001b[38;5;28mprint\u001b[39m(\u001b[38;5;124m'\u001b[39m\u001b[38;5;124mits not a prime\u001b[39m\u001b[38;5;124m'\u001b[39m)\n\u001b[1;32m      5\u001b[0m     \u001b[38;5;28;01melse\u001b[39;00m:\n",
      "\u001b[0;31mTypeError\u001b[0m: unsupported operand type(s) for %: 'list' and 'int'"
     ]
    }
   ],
   "source": [
    "def gud(num):\n",
    "    for x in range(2,len(num)):\n",
    "        if (num%x==0):\n",
    "            print('its not a prime')\n",
    "    else:\n",
    "         print('its a prime')\n",
    "num=[1,2,3,4,5,6,7,8,9,10]        \n",
    "gud(num)"
   ]
  },
  {
   "cell_type": "code",
   "execution_count": 569,
   "id": "645c88ac-2251-43c8-bcc6-8e9cfe4d8ebc",
   "metadata": {},
   "outputs": [
    {
     "name": "stdout",
     "output_type": "stream",
     "text": [
      "[2, 3, 4, 5, 6, 8]\n"
     ]
    }
   ],
   "source": [
    "unorderedlist=[8,5,3,6,4,2]\n",
    "orderedlist=sorted(unorderedlist)\n",
    "print(orderedlist)"
   ]
  },
  {
   "cell_type": "code",
   "execution_count": 605,
   "id": "d500d3ad-67be-4db2-b815-7bbedbabb106",
   "metadata": {},
   "outputs": [
    {
     "name": "stdout",
     "output_type": "stream",
     "text": [
      "product: 600\n",
      "sum: 70\n"
     ]
    }
   ],
   "source": [
    "def number(number1,number2):\n",
    "    product=number1*number2\n",
    "    if product<=1000:\n",
    "      return product\n",
    "    else:\n",
    "     return number1+number2\n",
    "result=number(20,30)\n",
    "print(f'product: {result}')\n",
    "result=number(40,30)\n",
    "print(f'sum: {result}')\n"
   ]
  },
  {
   "cell_type": "code",
   "execution_count": null,
   "id": "8b6d2ee4-a45d-4e2c-b790-29f1d053781f",
   "metadata": {},
   "outputs": [],
   "source": [
    "\n"
   ]
  },
  {
   "cell_type": "code",
   "execution_count": 631,
   "id": "1945709e-198b-48b6-a831-776ae4af6e98",
   "metadata": {},
   "outputs": [
    {
     "name": "stdout",
     "output_type": "stream",
     "text": [
      "Elements in original array: \n",
      "5\n",
      "2\n",
      "3\n",
      "4\n",
      "1\n",
      "\n",
      "Array sorted in ascending order: \n",
      "1\n",
      "2\n",
      "3\n",
      "4\n",
      "5\n"
     ]
    }
   ],
   "source": [
    "arr = [5, 2, 3, 4, 1];     \n",
    "temp = 0;    \n",
    "         \n",
    "print(\"Elements in original array: \");    # printing the original array\n",
    "for i in range(0, len(arr)):     \n",
    "    print(arr[i]),    \n",
    "     \n",
    "for i in range(0, len(arr)):    \n",
    "    for j in range(i+1, len(arr)):      # comparing the elements using nested for loop\n",
    "        if(arr[i] > arr[j]):    \n",
    "            temp = arr[i];    \n",
    "            arr[i] = arr[j];        # swapping the elements\n",
    "            arr[j] = temp;    \n",
    "     \n",
    "print();    \n",
    "    \n",
    "print(\"Array sorted in ascending order: \");    \n",
    "for i in range(0, len(arr)):     \n",
    "    print(arr[i]),   \n"
   ]
  },
  {
   "cell_type": "code",
   "execution_count": 623,
   "id": "fdfdad2e-9802-41bf-ad56-1c6d32c29dc4",
   "metadata": {},
   "outputs": [
    {
     "name": "stdout",
     "output_type": "stream",
     "text": [
      "Elements of original array: \n",
      "5 2 8 7 1 \n",
      "Elements of array sorted in ascending order: \n",
      "1\n",
      "2\n",
      "5\n",
      "7\n",
      "8\n"
     ]
    }
   ],
   "source": [
    "#Initialize array     \n",
    "arr = [5, 2, 8, 7, 1];     \n",
    "temp = 0;    \n",
    "     \n",
    "#Displaying elements of original array    \n",
    "print(\"Elements of original array: \");    \n",
    "for i in range(0, len(arr)):    \n",
    "    print(arr[i], end=\" \");    \n",
    "     \n",
    "#Sort the array in ascending order    \n",
    "for i in range(0, len(arr)):    \n",
    "    for j in range(i+1, len(arr)):    \n",
    "        if(arr[i] > arr[j]):    \n",
    "            temp = arr[i];    \n",
    "            arr[i] = arr[j];    \n",
    "            arr[j] = temp;    \n",
    "     \n",
    "print();    \n",
    "     \n",
    "#Displaying elements of the array after sorting    \n",
    "    \n",
    "print(\"Elements of array sorted in ascending order: \");    \n",
    "for i in range(0, len(arr)):    \n",
    "    print(arr[i], end=\" \");    \n"
   ]
  },
  {
   "cell_type": "code",
   "execution_count": 637,
   "id": "76fb3513-30f4-412c-9edb-1165f244a8d3",
   "metadata": {},
   "outputs": [
    {
     "name": "stdout",
     "output_type": "stream",
     "text": [
      "Elements in original array: \n",
      "52341\n",
      "Array sorted in descending order: \n",
      "54321"
     ]
    }
   ],
   "source": [
    "arr = [5, 2, 3, 4, 1]  # Original array\n",
    "temp = 0  # Temporary variable for swapping elements\n",
    "\n",
    "# Printing the original array\n",
    "print(\"Elements in original array: \")\n",
    "for i in range(0, len(arr)):\n",
    "    print(arr[i],end='')\n",
    "\n",
    "# Bubble sort in descending order\n",
    "for i in range(0, len(arr)):\n",
    "    for j in range(i+1, len(arr)):  # Compare each element with the elements that come after it\n",
    "        if(arr[i] < arr[j]):  # Change the condition to sort in descending order\n",
    "            temp = arr[i]  # Store the element at index 'i'\n",
    "            arr[i] = arr[j]  # Swap the elements\n",
    "            arr[j] = temp  # Put the element from 'temp' into index 'j'\n",
    "\n",
    "# Printing the sorted array in descending order\n",
    "print(\"\\nArray sorted in descending order: \")\n",
    "for i in range(0, len(arr)):\n",
    "    print(arr[i],end='')\n"
   ]
  },
  {
   "cell_type": "code",
   "execution_count": 11,
   "id": "90433451-57c6-44c4-81f1-5230ad9f27ca",
   "metadata": {},
   "outputs": [
    {
     "data": {
      "text/plain": [
       "6"
      ]
     },
     "execution_count": 11,
     "metadata": {},
     "output_type": "execute_result"
    }
   ],
   "source": [
    "list=[1,2,3,4,5,6]\n",
    "len(list)"
   ]
  },
  {
   "cell_type": "code",
   "execution_count": null,
   "id": "432fe6e0-e723-4114-8b47-c22c8c9cb3ce",
   "metadata": {},
   "outputs": [],
   "source": []
  }
 ],
 "metadata": {
  "kernelspec": {
   "display_name": "Python [conda env:base] *",
   "language": "python",
   "name": "conda-base-py"
  },
  "language_info": {
   "codemirror_mode": {
    "name": "ipython",
    "version": 3
   },
   "file_extension": ".py",
   "mimetype": "text/x-python",
   "name": "python",
   "nbconvert_exporter": "python",
   "pygments_lexer": "ipython3",
   "version": "3.12.7"
  }
 },
 "nbformat": 4,
 "nbformat_minor": 5
}
